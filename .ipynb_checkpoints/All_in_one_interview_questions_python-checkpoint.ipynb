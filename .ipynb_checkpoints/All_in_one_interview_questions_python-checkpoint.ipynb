{
 "cells": [
  {
   "cell_type": "markdown",
   "id": "b0601d8c-bcb8-4ba2-b2bf-0d79a6e537ab",
   "metadata": {},
   "source": [
    "# Python Interview Questions - Topic Wise"
   ]
  },
  {
   "cell_type": "markdown",
   "id": "f0ff2053-fd49-4e27-aa95-846dd2cef46f",
   "metadata": {},
   "source": [
    "### 1. Questions on Input() Function"
   ]
  },
  {
   "cell_type": "markdown",
   "id": "168fc73e-09ae-4014-9eac-65ccffb8d03f",
   "metadata": {},
   "source": [
    "1. What is the input() function in Python used for?\n",
    "- In python, Input function is used for accepting the input from the user from terminal"
   ]
  },
  {
   "cell_type": "code",
   "execution_count": 2,
   "id": "f35040b0-c6e1-4368-858c-58af425c1883",
   "metadata": {},
   "outputs": [
    {
     "name": "stdin",
     "output_type": "stream",
     "text": [
      "Enter the value:  5\n"
     ]
    },
    {
     "data": {
      "text/plain": [
       "5"
      ]
     },
     "execution_count": 2,
     "metadata": {},
     "output_type": "execute_result"
    }
   ],
   "source": [
    "# 2. How to accept int value in input()?\n",
    "\n",
    "num = int(input(\"Enter the value: \"))\n",
    "num"
   ]
  },
  {
   "cell_type": "code",
   "execution_count": 3,
   "id": "3d47c63c-b396-4aaf-a8ef-ab92ae994512",
   "metadata": {},
   "outputs": [
    {
     "name": "stdin",
     "output_type": "stream",
     "text": [
      "Enter the float value:  5.6\n"
     ]
    },
    {
     "data": {
      "text/plain": [
       "5.6"
      ]
     },
     "execution_count": 3,
     "metadata": {},
     "output_type": "execute_result"
    }
   ],
   "source": [
    "# 3. Float input()\n",
    "float_num = float(input(\"Enter the float value: \"))\n",
    "float_num"
   ]
  },
  {
   "cell_type": "code",
   "execution_count": 6,
   "id": "f390c521-6020-41de-8f15-9c6bd547dc5e",
   "metadata": {},
   "outputs": [
    {
     "name": "stdin",
     "output_type": "stream",
     "text": [
      "Enter the value Hi this is Mayuresh\n"
     ]
    },
    {
     "data": {
      "text/plain": [
       "['Hi', 'this', 'is', 'Mayuresh']"
      ]
     },
     "execution_count": 6,
     "metadata": {},
     "output_type": "execute_result"
    }
   ],
   "source": [
    "# 4. Space separated values as input?\n",
    "val = input(\"Enter the value\").split()\n",
    "val"
   ]
  },
  {
   "cell_type": "code",
   "execution_count": 10,
   "id": "c257fa57-466c-4548-af7f-dc7cbe889f7d",
   "metadata": {},
   "outputs": [
    {
     "name": "stdin",
     "output_type": "stream",
     "text": [
      "Enter the number:  0\n"
     ]
    },
    {
     "name": "stdout",
     "output_type": "stream",
     "text": [
      "0  is zero\n"
     ]
    }
   ],
   "source": [
    "# 5. Check if the number is positive negative or zero\n",
    "num = int(input(\"Enter the number: \"))\n",
    "\n",
    "if num>0:\n",
    "    print(num, \" is a positive\")\n",
    "\n",
    "elif num<0:\n",
    "    print(num, \" is a negative\")\n",
    "\n",
    "else:\n",
    "    print(num, \" is zero\")"
   ]
  },
  {
   "cell_type": "code",
   "execution_count": 16,
   "id": "b06eae56-2c58-4780-8860-fa0a5a526b21",
   "metadata": {},
   "outputs": [
    {
     "name": "stdin",
     "output_type": "stream",
     "text": [
      "Enter the number:  3\n",
      "Enter the number:  1\n",
      "Enter the number:  5\n",
      "Enter the number:  4\n",
      "Enter the number:  56\n"
     ]
    },
    {
     "data": {
      "text/plain": [
       "[3, 1, 5, 4, 56]"
      ]
     },
     "execution_count": 16,
     "metadata": {},
     "output_type": "execute_result"
    }
   ],
   "source": [
    "# 6. How to convert user input into a list of integers?\n",
    "\n",
    "list1=[]\n",
    "for i in range(1,6):\n",
    "    num=int(input(\"Enter the number: \"))\n",
    "    list1.append(num)\n",
    "list1"
   ]
  },
  {
   "cell_type": "code",
   "execution_count": 17,
   "id": "64cb63c1-5478-43c2-8709-c59156e262a2",
   "metadata": {},
   "outputs": [
    {
     "name": "stdin",
     "output_type": "stream",
     "text": [
      "Enter something:  hi bro\n"
     ]
    },
    {
     "data": {
      "text/plain": [
       "'HI BRO'"
      ]
     },
     "execution_count": 17,
     "metadata": {},
     "output_type": "execute_result"
    }
   ],
   "source": [
    "# 7. How do you accept a string input? and print it in uppercase?\n",
    "# input() function by default takes the input in string format, so here we don't need to conver it.\n",
    "\n",
    "str = input(\"Enter something: \").upper()\n",
    "str"
   ]
  },
  {
   "cell_type": "code",
   "execution_count": 24,
   "id": "db92faf9-6647-4501-9d19-8c4c3425e3e4",
   "metadata": {},
   "outputs": [
    {
     "name": "stdin",
     "output_type": "stream",
     "text": [
      "write a word and I'll give you the number of vowels in it:  aaaaa\n"
     ]
    },
    {
     "data": {
      "text/plain": [
       "5"
      ]
     },
     "execution_count": 24,
     "metadata": {},
     "output_type": "execute_result"
    }
   ],
   "source": [
    "# 8. Write a python program that accepts a string and prints the number of vowels in it.\n",
    "\n",
    "str = input(\"write a word and I'll give you the number of vowels in it: \").lower()\n",
    "vowels=0\n",
    "\n",
    "for i in str:\n",
    "    if i == 'a':\n",
    "        vowels+=1\n",
    "    elif i =='e':\n",
    "        vowels+=1\n",
    "    elif i == 'i':\n",
    "        vowels+=1\n",
    "    elif i == 'o':\n",
    "        vowels+=1\n",
    "    elif i == 'u':\n",
    "        vowels+=1\n",
    "if vowels==0:\n",
    "    print(\"no vowels\")\n",
    "vowels"
   ]
  },
  {
   "cell_type": "code",
   "execution_count": 32,
   "id": "463ee162-bd48-4dec-939e-7598057d0b9f",
   "metadata": {},
   "outputs": [
    {
     "name": "stdin",
     "output_type": "stream",
     "text": [
      "Enter a number:  54\n"
     ]
    },
    {
     "name": "stdout",
     "output_type": "stream",
     "text": [
      "54  is an even number\n"
     ]
    }
   ],
   "source": [
    "# 9. Write a program that takes a number as input and checks if it is even or odd\n",
    "\n",
    "num = int(input(\"Enter a number: \"))\n",
    "\n",
    "if num % 2 == 0:\n",
    "    print(num, \" is an even number\")\n",
    "else:\n",
    "    print(num, \" is an odd numner\")"
   ]
  },
  {
   "cell_type": "code",
   "execution_count": 49,
   "id": "542621fb-c2c2-4b8b-bc03-2e6f60f3a9df",
   "metadata": {},
   "outputs": [
    {
     "name": "stdin",
     "output_type": "stream",
     "text": [
      "Enter a word:  yes\n"
     ]
    },
    {
     "name": "stdout",
     "output_type": "stream",
     "text": [
      "yes is not a palindrome\n"
     ]
    }
   ],
   "source": [
    "# 10. How would you check if a string a palindrome using input()?\n",
    "# Palindrome means same if you read from front or from back\n",
    "\n",
    "s = input(\"Enter a word: \")\n",
    "rev_s = ''\n",
    "for i in range(len(s)-1, -1, -1):  # loop from last index to 0\n",
    "    rev_s += s[i]\n",
    "\n",
    "if s == rev_s:\n",
    "    print(s, \"is a palindrome\")\n",
    "else:\n",
    "    print(s, \"is not a palindrome\")\n"
   ]
  },
  {
   "cell_type": "code",
   "execution_count": 51,
   "id": "c23f4652-ea84-44ec-b57f-91cdd3784b3a",
   "metadata": {},
   "outputs": [
    {
     "name": "stdin",
     "output_type": "stream",
     "text": [
      "Enter a numeber:  4\n"
     ]
    },
    {
     "name": "stdout",
     "output_type": "stream",
     "text": [
      "16\n"
     ]
    }
   ],
   "source": [
    "# 11. Write a program that takes a numner as input and pritns its squares\n",
    "\n",
    "num=int(input(\"Enter a numeber: \"))\n",
    "sqr=num*num\n",
    "print(sqr)"
   ]
  },
  {
   "cell_type": "code",
   "execution_count": 56,
   "id": "5b0dd1f7-370a-4319-bd4d-d52bb5d7a0a3",
   "metadata": {},
   "outputs": [
    {
     "name": "stdin",
     "output_type": "stream",
     "text": [
      "Enter a number:  17\n"
     ]
    },
    {
     "name": "stdout",
     "output_type": "stream",
     "text": [
      "17  is not divisible by 3\n"
     ]
    }
   ],
   "source": [
    "# 12. Write a program that asks for a number and prints whether it is divisible by 3\n",
    "\n",
    "num=int(input(\"Enter a number: \"))\n",
    "\n",
    "if num % 3 == 0:\n",
    "    print(num, \" is divisible by 3\")\n",
    "\n",
    "else:\n",
    "    print(num, \" is not divisible by 3\")\n",
    "    "
   ]
  },
  {
   "cell_type": "code",
   "execution_count": 67,
   "id": "26547721-e0ce-4d2e-bd22-1d19121f7840",
   "metadata": {},
   "outputs": [
    {
     "name": "stdin",
     "output_type": "stream",
     "text": [
      "Enter a number:  42\n"
     ]
    },
    {
     "name": "stdout",
     "output_type": "stream",
     "text": [
      "42  is divisible by 3 and 7\n"
     ]
    }
   ],
   "source": [
    "# 13. How would you heck if a numbner is divisible by both 3 and 7?\n",
    "\n",
    "num=int(input(\"Enter a number: \"))\n",
    "\n",
    "if num % 3 == 0 and num % 7 == 0:\n",
    "    print(num, \" is divisible by 3 and 7\")\n",
    "\n",
    "else:\n",
    "    print(num, \" is not divisible by either 3 or 7\")"
   ]
  },
  {
   "cell_type": "code",
   "execution_count": 69,
   "id": "4e289d45-b42c-414a-9c7d-f5fe1b26c7d4",
   "metadata": {},
   "outputs": [
    {
     "name": "stdin",
     "output_type": "stream",
     "text": [
      "Enter comma-separated values:  a,s,d,f,g,g\n"
     ]
    },
    {
     "data": {
      "text/plain": [
       "[['a', 's', 'd', 'f', 'g', 'g']]"
      ]
     },
     "execution_count": 69,
     "metadata": {},
     "output_type": "execute_result"
    }
   ],
   "source": [
    "# 14. How do you accept a list of comma-separated values as input?\n",
    "\n",
    "list=[]\n",
    "s = input(\"Enter comma-separated values: \").split(',')\n",
    "list.append(s)\n",
    "list"
   ]
  },
  {
   "cell_type": "code",
   "execution_count": 78,
   "id": "8af20337-6d6e-49a6-83f4-a59458749326",
   "metadata": {},
   "outputs": [
    {
     "name": "stdin",
     "output_type": "stream",
     "text": [
      "Enter the num:  10010\n"
     ]
    },
    {
     "name": "stdout",
     "output_type": "stream",
     "text": [
      "10010  is not a prime number\n"
     ]
    }
   ],
   "source": [
    "# 15. Write a program that takes 2 nums as input and prints their product\n",
    "# 16. Write a program that takes checks if the input number is a prime number.\n",
    "\n",
    "num = int(input(\"Enter the num: \"))\n",
    "count=0\n",
    "\n",
    "for i in range(1, num+1):\n",
    "    if num % i == 0:\n",
    "        count+=1\n",
    "\n",
    "if count>2:\n",
    "    print(num, \" is not a prime number\")\n",
    "\n",
    "else:\n",
    "    print(num, \" is a prime number\")"
   ]
  },
  {
   "cell_type": "code",
   "execution_count": null,
   "id": "7702e91d-cbc1-4356-bf83-9c8a8dacc2bb",
   "metadata": {},
   "outputs": [],
   "source": []
  }
 ],
 "metadata": {
  "kernelspec": {
   "display_name": "Python [conda env:base] *",
   "language": "python",
   "name": "conda-base-py"
  },
  "language_info": {
   "codemirror_mode": {
    "name": "ipython",
    "version": 3
   },
   "file_extension": ".py",
   "mimetype": "text/x-python",
   "name": "python",
   "nbconvert_exporter": "python",
   "pygments_lexer": "ipython3",
   "version": "3.12.3"
  }
 },
 "nbformat": 4,
 "nbformat_minor": 5
}
