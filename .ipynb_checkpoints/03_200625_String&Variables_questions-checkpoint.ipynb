{
 "cells": [
  {
   "cell_type": "code",
   "execution_count": 4,
   "id": "8b0f950c-9e54-49d8-b1af-a6c9aace8888",
   "metadata": {},
   "outputs": [
    {
     "data": {
      "text/plain": [
       "[10, 10]"
      ]
     },
     "execution_count": 4,
     "metadata": {},
     "output_type": "execute_result"
    }
   ],
   "source": [
    "#Practice question\n",
    "a=10\n",
    "b=[10]\n",
    "# a+=a\n",
    "# a\n",
    "b+=b\n",
    "b"
   ]
  },
  {
   "cell_type": "code",
   "execution_count": null,
   "id": "9da700b0-6174-4d6e-8a12-a6bad3cf5853",
   "metadata": {},
   "outputs": [],
   "source": [
    "#Nit \n",
    "#Function-> method without class/outside of class\n",
    "#Method-> function inside of the class is called method (need to verify with gpt)"
   ]
  },
  {
   "cell_type": "code",
   "execution_count": 15,
   "id": "b846df37-88a2-4e11-b440-b46b7b5c8400",
   "metadata": {},
   "outputs": [
    {
     "name": "stdout",
     "output_type": "stream",
     "text": [
      "140705230171160\n",
      "140705230171160\n",
      "140705230171160\n",
      "140705230171800\n"
     ]
    }
   ],
   "source": [
    "p=20\n",
    "q=20\n",
    "r=20\n",
    "#We can optimize the code by writing:\n",
    "p=q=r=20\n",
    "print(id(p))\n",
    "print(id(q))\n",
    "print(id(r))\n",
    "#Q=Why does it happen? why not different address if the variables are different?\n",
    "#If I add 10 in the 20, then the address will change of same and why?\n",
    "p=p+20\n",
    "print(id(p))"
   ]
  },
  {
   "cell_type": "markdown",
   "id": "9c058638-070a-415e-a1d9-4b4a1e97a6a6",
   "metadata": {},
   "source": [
    "## String"
   ]
  },
  {
   "cell_type": "code",
   "execution_count": 14,
   "id": "cc9181d9-ebda-49b0-928d-15759cfbd4e2",
   "metadata": {},
   "outputs": [
    {
     "data": {
      "text/plain": [
       "'lowr'"
      ]
     },
     "execution_count": 14,
     "metadata": {},
     "output_type": "execute_result"
    }
   ],
   "source": [
    "#forward indexing: 0,1,2,3,4 - begins with 0 \n",
    "#backward indexing: -1,-2,-3,-4 - begins with -1\n",
    "#indexing starts from 0 in python, therefore n-1 formula\n",
    "\n",
    "#Examples:\n",
    "s='hello world'\n",
    "s\n",
    "\n",
    "s[0]\n",
    "s[-1]\n",
    "\n",
    "#slicing\n",
    "s[0:5]\n",
    "#Here 0 is the starting index and 5 is the end index.\n",
    "#the fifth index is not printed\n",
    "\n",
    "#You can also do\n",
    "s[1:] #Start from the 1st index till last\n",
    "s[:5] #from starting to 5 (n-1=4)\n",
    "s[2:8] #from 2nd index to 8 (7)\n",
    "\n",
    "#ADVANCED SLICING\n",
    "s[::-1] #Reversed string\n",
    "\n",
    "s[2:10:2] \n",
    "# 2 is starting index\n",
    "# 10 is ending index\n",
    "# 2 stapping index (difference) like after every 2 elements"
   ]
  },
  {
   "cell_type": "code",
   "execution_count": null,
   "id": "0fbb3ced-f9b2-4733-89fe-c663ef6a89cd",
   "metadata": {},
   "outputs": [],
   "source": [
    "#datatype of np.nan is float! how? (np from numpy library)"
   ]
  }
 ],
 "metadata": {
  "kernelspec": {
   "display_name": "Python [conda env:base] *",
   "language": "python",
   "name": "conda-base-py"
  },
  "language_info": {
   "codemirror_mode": {
    "name": "ipython",
    "version": 3
   },
   "file_extension": ".py",
   "mimetype": "text/x-python",
   "name": "python",
   "nbconvert_exporter": "python",
   "pygments_lexer": "ipython3",
   "version": "3.12.7"
  }
 },
 "nbformat": 4,
 "nbformat_minor": 5
}
