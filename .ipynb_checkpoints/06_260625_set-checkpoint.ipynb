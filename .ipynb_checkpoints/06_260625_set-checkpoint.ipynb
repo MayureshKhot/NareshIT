{
 "cells": [
  {
   "cell_type": "markdown",
   "id": "71386f2b-c03e-41d6-8c44-f3e90499bf4f",
   "metadata": {},
   "source": [
    "# Set\n",
    "- Set and Dict both uses {}\n",
    "- and python assumes that s={} is a dict\n",
    "- So how to create emplty set?\n",
    "- No matter how you add() the value, in random, Set will be ordered.\n",
    "- Set is in order with SIMILAR DATATYPES, else it's UNORDERED.\n",
    "- Duplicates are not allowed\n",
    "- Indexing is not allowed in Set\n",
    "- Slicing is not allowed\n",
    "- List inside a set is not possible. s={[1,2,3]}\n",
    "- Different/Mix data types are allowed.\n",
    "- Difference between append and add()\n",
    "  - append(): appends value at last (In list only)\n",
    "  - add(): adds in a sorted way\n",
    "- Set is \n",
    "\n",
    "$Functions$\n",
    "- pop(): removes the element from the set- RANDOMLY and display the ouput. Unline lists pop() which removes only the last element.\n",
    "- remove(): removes elements within the params. remvove(1+2j). Removes a specific element.\n",
    "  - difference between remove() and discard()\n",
    "  - remove(): It removes the number if available, if not available, it throws the ERROR.\n",
    "  - discard(): it removes if the number is available it deletes it, if not available, it won't delete, but it won't throw ERROR"
   ]
  },
  {
   "cell_type": "code",
   "execution_count": 1,
   "id": "f36bcfa8-1038-4eb3-b1db-460df733f594",
   "metadata": {},
   "outputs": [
    {
     "data": {
      "text/plain": [
       "dict"
      ]
     },
     "execution_count": 1,
     "metadata": {},
     "output_type": "execute_result"
    }
   ],
   "source": [
    "s={}\n",
    "type(s)"
   ]
  },
  {
   "cell_type": "code",
   "execution_count": 3,
   "id": "b12fb702-04f1-47ac-95a3-aea66540260c",
   "metadata": {},
   "outputs": [
    {
     "data": {
      "text/plain": [
       "set"
      ]
     },
     "execution_count": 3,
     "metadata": {},
     "output_type": "execute_result"
    }
   ],
   "source": [
    "s1=set()\n",
    "type(s1) # This is how you can define empty set."
   ]
  },
  {
   "cell_type": "code",
   "execution_count": 4,
   "id": "901dddf3-ee9e-4915-9f95-8c9042773f15",
   "metadata": {},
   "outputs": [],
   "source": [
    "s1.add(10)"
   ]
  },
  {
   "cell_type": "code",
   "execution_count": 5,
   "id": "68c7979b-4a94-4c36-bbec-61ef7ed7dd6b",
   "metadata": {},
   "outputs": [
    {
     "data": {
      "text/plain": [
       "{10}"
      ]
     },
     "execution_count": 5,
     "metadata": {},
     "output_type": "execute_result"
    }
   ],
   "source": [
    "s1"
   ]
  },
  {
   "cell_type": "code",
   "execution_count": 6,
   "id": "caa8ad56-e9d8-4be8-990a-bce0c77ca8da",
   "metadata": {},
   "outputs": [
    {
     "ename": "TypeError",
     "evalue": "set.add() takes exactly one argument (2 given)",
     "output_type": "error",
     "traceback": [
      "\u001b[1;31m---------------------------------------------------------------------------\u001b[0m",
      "\u001b[1;31mTypeError\u001b[0m                                 Traceback (most recent call last)",
      "Cell \u001b[1;32mIn[6], line 1\u001b[0m\n\u001b[1;32m----> 1\u001b[0m s1\u001b[38;5;241m.\u001b[39madd(\u001b[38;5;241m30\u001b[39m,\u001b[38;5;241m20\u001b[39m)\n",
      "\u001b[1;31mTypeError\u001b[0m: set.add() takes exactly one argument (2 given)"
     ]
    }
   ],
   "source": [
    "s1.add(30,20) # Set does not accept two params in add() function."
   ]
  },
  {
   "cell_type": "code",
   "execution_count": 7,
   "id": "f94df360-ee5c-4cb0-aa7d-2afb1b8a18d5",
   "metadata": {},
   "outputs": [
    {
     "data": {
      "text/plain": [
       "{10, 35, 80, 100}"
      ]
     },
     "execution_count": 7,
     "metadata": {},
     "output_type": "execute_result"
    }
   ],
   "source": [
    "s1.add(10)\n",
    "s1.add(100)\n",
    "s1.add(80)\n",
    "s1.add(35)\n",
    "s1"
   ]
  },
  {
   "cell_type": "code",
   "execution_count": 9,
   "id": "c3a844a1-e19c-4a7b-802a-9d1a088663c8",
   "metadata": {},
   "outputs": [
    {
     "data": {
      "text/plain": [
       "{10, 35, 80, 100}"
      ]
     },
     "execution_count": 9,
     "metadata": {},
     "output_type": "execute_result"
    }
   ],
   "source": [
    "s1.add(10) #Duplocates are not allowed.\n",
    "s1"
   ]
  },
  {
   "cell_type": "code",
   "execution_count": 10,
   "id": "c7560b03-d2dc-4bf5-b208-cff8d5ad011b",
   "metadata": {},
   "outputs": [
    {
     "ename": "KeyError",
     "evalue": "1",
     "output_type": "error",
     "traceback": [
      "\u001b[1;31m---------------------------------------------------------------------------\u001b[0m",
      "\u001b[1;31mKeyError\u001b[0m                                  Traceback (most recent call last)",
      "Cell \u001b[1;32mIn[10], line 1\u001b[0m\n\u001b[1;32m----> 1\u001b[0m s[\u001b[38;5;241m1\u001b[39m]\n",
      "\u001b[1;31mKeyError\u001b[0m: 1"
     ]
    }
   ],
   "source": [
    "s[1] # Not allwed\n"
   ]
  },
  {
   "cell_type": "code",
   "execution_count": 11,
   "id": "ac624aa0-20ff-4202-95b7-718cabf8be31",
   "metadata": {},
   "outputs": [
    {
     "ename": "TypeError",
     "evalue": "'set' object is not subscriptable",
     "output_type": "error",
     "traceback": [
      "\u001b[1;31m---------------------------------------------------------------------------\u001b[0m",
      "\u001b[1;31mTypeError\u001b[0m                                 Traceback (most recent call last)",
      "Cell \u001b[1;32mIn[11], line 1\u001b[0m\n\u001b[1;32m----> 1\u001b[0m s1[:]\n",
      "\u001b[1;31mTypeError\u001b[0m: 'set' object is not subscriptable"
     ]
    }
   ],
   "source": [
    "s1[:] # slicing is not allowed."
   ]
  },
  {
   "cell_type": "code",
   "execution_count": 13,
   "id": "cf3e5534-f1e1-4e51-912c-b252bf85d565",
   "metadata": {},
   "outputs": [
    {
     "data": {
      "text/plain": [
       "{(1+2j), 1.1, 10, 'ten'}"
      ]
     },
     "execution_count": 13,
     "metadata": {},
     "output_type": "execute_result"
    }
   ],
   "source": [
    "s2=set()\n",
    "s2.add(10)\n",
    "s2.add('ten')\n",
    "s2.add(1+2j)\n",
    "s2.add(1.1)\n",
    "s2"
   ]
  },
  {
   "cell_type": "code",
   "execution_count": 14,
   "id": "f71d35d4-f4cb-4baf-ae59-fd3d7d3e9d95",
   "metadata": {},
   "outputs": [
    {
     "name": "stdout",
     "output_type": "stream",
     "text": [
      "{80, 10, 35, 100}\n",
      "{1.1, 10, 'ten', (1+2j)}\n"
     ]
    }
   ],
   "source": [
    "print(s1)\n",
    "print(s2)\n"
   ]
  },
  {
   "cell_type": "code",
   "execution_count": 15,
   "id": "d88fe9c7-0591-4132-ba6c-621375de341d",
   "metadata": {},
   "outputs": [
    {
     "data": {
      "text/plain": [
       "{(1+2j), 1.1, 10, 'ten'}"
      ]
     },
     "execution_count": 15,
     "metadata": {},
     "output_type": "execute_result"
    }
   ],
   "source": [
    "s3=s2.copy()\n",
    "s3"
   ]
  },
  {
   "cell_type": "code",
   "execution_count": 16,
   "id": "70016470-9e74-43cf-806f-1b3a4a42b769",
   "metadata": {},
   "outputs": [
    {
     "data": {
      "text/plain": [
       "True"
      ]
     },
     "execution_count": 16,
     "metadata": {},
     "output_type": "execute_result"
    }
   ],
   "source": [
    "#Now\n",
    "s2==s3"
   ]
  },
  {
   "cell_type": "code",
   "execution_count": 17,
   "id": "4a498362-a06d-4acf-a71d-82b0e30274d7",
   "metadata": {},
   "outputs": [
    {
     "data": {
      "text/plain": [
       "False"
      ]
     },
     "execution_count": 17,
     "metadata": {},
     "output_type": "execute_result"
    }
   ],
   "source": [
    "#But\n",
    "id(s2)==id(s3)"
   ]
  },
  {
   "cell_type": "code",
   "execution_count": 18,
   "id": "08ceb7fd-f319-4c98-a6e9-aa4a15e6ae2f",
   "metadata": {},
   "outputs": [
    {
     "data": {
      "text/plain": [
       "{(1+2j), 1.1, 'ten'}"
      ]
     },
     "execution_count": 18,
     "metadata": {},
     "output_type": "execute_result"
    }
   ],
   "source": [
    "s2.remove(10)\n",
    "s2"
   ]
  },
  {
   "cell_type": "code",
   "execution_count": 19,
   "id": "d9bc6f35-6742-4240-8888-5bf296ca86a6",
   "metadata": {},
   "outputs": [
    {
     "data": {
      "text/plain": [
       "{(1+2j), 'ten'}"
      ]
     },
     "execution_count": 19,
     "metadata": {},
     "output_type": "execute_result"
    }
   ],
   "source": [
    "s2.pop()#removes elements randomly.\n",
    "s2"
   ]
  },
  {
   "cell_type": "code",
   "execution_count": 21,
   "id": "84485557-ef7d-4609-aff3-95292aef2bbf",
   "metadata": {},
   "outputs": [
    {
     "data": {
      "text/plain": [
       "{(1+2j), 1.1, 10, 100, 'ten'}"
      ]
     },
     "execution_count": 21,
     "metadata": {},
     "output_type": "execute_result"
    }
   ],
   "source": [
    "s3.add(100)\n",
    "s3"
   ]
  },
  {
   "cell_type": "code",
   "execution_count": 22,
   "id": "dc79f5ca-2958-4645-b592-ccf3c90ccb57",
   "metadata": {},
   "outputs": [
    {
     "ename": "KeyError",
     "evalue": "1000",
     "output_type": "error",
     "traceback": [
      "\u001b[1;31m---------------------------------------------------------------------------\u001b[0m",
      "\u001b[1;31mKeyError\u001b[0m                                  Traceback (most recent call last)",
      "Cell \u001b[1;32mIn[22], line 1\u001b[0m\n\u001b[1;32m----> 1\u001b[0m s3\u001b[38;5;241m.\u001b[39mremove(\u001b[38;5;241m1000\u001b[39m)\u001b[38;5;66;03m#throws error cos 1000 does not exist\u001b[39;00m\n\u001b[0;32m      2\u001b[0m s3\n",
      "\u001b[1;31mKeyError\u001b[0m: 1000"
     ]
    }
   ],
   "source": [
    "s3.remove(1000)#throws error cos 1000 does not exist\n",
    "s3"
   ]
  },
  {
   "cell_type": "code",
   "execution_count": 23,
   "id": "f9a563c6-752b-4592-9bd3-7510bc7b93e1",
   "metadata": {},
   "outputs": [
    {
     "data": {
      "text/plain": [
       "{(1+2j), 1.1, 10, 100, 'ten'}"
      ]
     },
     "execution_count": 23,
     "metadata": {},
     "output_type": "execute_result"
    }
   ],
   "source": [
    "#BUT\n",
    "s3.discard(1000)\n",
    "s3"
   ]
  },
  {
   "cell_type": "markdown",
   "id": "70fbac3e-7bad-4c20-bb9a-e64a06142d88",
   "metadata": {},
   "source": [
    "# Set basics- Completed"
   ]
  },
  {
   "cell_type": "markdown",
   "id": "a7f59ae0-bf8c-4d6f-a3ef-47fff5eb8e15",
   "metadata": {},
   "source": [
    "# Set Operations:\n",
    "- loop and enumerate words in SET."
   ]
  },
  {
   "cell_type": "code",
   "execution_count": 24,
   "id": "5d550c35-5a01-4b63-8621-96394f00bc0a",
   "metadata": {},
   "outputs": [
    {
     "name": "stdout",
     "output_type": "stream",
     "text": [
      "1.1\n",
      "ten\n",
      "100\n",
      "(1+2j)\n",
      "10\n"
     ]
    }
   ],
   "source": [
    "for i in s3:\n",
    "    print(i)"
   ]
  },
  {
   "cell_type": "code",
   "execution_count": 25,
   "id": "ddb8d7d1-a3da-4c08-b2f2-7d3d876fb2d1",
   "metadata": {},
   "outputs": [
    {
     "name": "stdout",
     "output_type": "stream",
     "text": [
      "(0, 1.1)\n",
      "(1, 'ten')\n",
      "(2, 100)\n",
      "(3, (1+2j))\n",
      "(4, 10)\n"
     ]
    }
   ],
   "source": [
    "for i in enumerate(s3):#In set indexing is not allowed, but enumerate is not index.\n",
    "    print(i)"
   ]
  },
  {
   "cell_type": "markdown",
   "id": "739bc054-27b0-4a9d-96e7-4a74be86e833",
   "metadata": {},
   "source": [
    "## Union - in SQL it's Inner Joint"
   ]
  },
  {
   "cell_type": "code",
   "execution_count": 26,
   "id": "c95a060e-9f08-4d52-baab-b5f057e44c4e",
   "metadata": {},
   "outputs": [],
   "source": [
    "a={1,2,3,4,5}\n",
    "b={4,5,6,7,8}\n",
    "c={8,9,10}"
   ]
  },
  {
   "cell_type": "code",
   "execution_count": 27,
   "id": "c7434bfe-3e95-42f4-a4e3-dd11eecd26d5",
   "metadata": {},
   "outputs": [
    {
     "data": {
      "text/plain": [
       "{1, 2, 3, 4, 5, 6, 7, 8}"
      ]
     },
     "execution_count": 27,
     "metadata": {},
     "output_type": "execute_result"
    }
   ],
   "source": [
    "a.union(b)"
   ]
  },
  {
   "cell_type": "code",
   "execution_count": 28,
   "id": "c4655b6b-579a-4762-be5c-4d2dd3453040",
   "metadata": {},
   "outputs": [
    {
     "data": {
      "text/plain": [
       "{1, 2, 3, 4, 5, 6, 7, 8}"
      ]
     },
     "execution_count": 28,
     "metadata": {},
     "output_type": "execute_result"
    }
   ],
   "source": [
    "a | b # Same as Union function."
   ]
  },
  {
   "cell_type": "code",
   "execution_count": 29,
   "id": "66af6fad-386f-4967-8924-777027055d59",
   "metadata": {},
   "outputs": [
    {
     "data": {
      "text/plain": [
       "{4, 5, 6, 7, 8, 9, 10}"
      ]
     },
     "execution_count": 29,
     "metadata": {},
     "output_type": "execute_result"
    }
   ],
   "source": [
    "b | c"
   ]
  },
  {
   "cell_type": "code",
   "execution_count": 30,
   "id": "c7097b71-a069-41ba-b146-25a9e6a29d8c",
   "metadata": {},
   "outputs": [
    {
     "data": {
      "text/plain": [
       "{1, 2, 3, 4, 5, 6, 7, 8, 9, 10}"
      ]
     },
     "execution_count": 30,
     "metadata": {},
     "output_type": "execute_result"
    }
   ],
   "source": [
    "a | b | c"
   ]
  },
  {
   "cell_type": "markdown",
   "id": "4a67ccb3-55e7-4a30-b7e4-5e9d6ebbb545",
   "metadata": {},
   "source": [
    "# Difference"
   ]
  },
  {
   "cell_type": "code",
   "execution_count": 31,
   "id": "64b9354e-81be-4ee4-930e-da5ce73c04c6",
   "metadata": {},
   "outputs": [
    {
     "name": "stdout",
     "output_type": "stream",
     "text": [
      "{1, 2, 3, 4, 5}\n",
      "{4, 5, 6, 7, 8}\n",
      "{8, 9, 10}\n"
     ]
    }
   ],
   "source": [
    "print(a)\n",
    "print(b)\n",
    "print(c)\n"
   ]
  },
  {
   "cell_type": "code",
   "execution_count": 32,
   "id": "c5da3eaf-f974-4363-9592-02f5879adf53",
   "metadata": {},
   "outputs": [
    {
     "data": {
      "text/plain": [
       "{1, 2, 3}"
      ]
     },
     "execution_count": 32,
     "metadata": {},
     "output_type": "execute_result"
    }
   ],
   "source": [
    "a.difference(b)#Prints only a table that's unique and remove common items"
   ]
  },
  {
   "cell_type": "code",
   "execution_count": 33,
   "id": "c51a00fa-9cb1-4a45-a2cc-db094ae03bc7",
   "metadata": {},
   "outputs": [
    {
     "data": {
      "text/plain": [
       "{6, 7, 8}"
      ]
     },
     "execution_count": 33,
     "metadata": {},
     "output_type": "execute_result"
    }
   ],
   "source": [
    "b.difference(a)# Prints only b table's unique value and remove common items"
   ]
  },
  {
   "cell_type": "code",
   "execution_count": 34,
   "id": "64e1ccc7-4e1d-48b1-8a12-d4758c564108",
   "metadata": {},
   "outputs": [
    {
     "data": {
      "text/plain": [
       "{1, 2, 3, 4, 5}"
      ]
     },
     "execution_count": 34,
     "metadata": {},
     "output_type": "execute_result"
    }
   ],
   "source": [
    "a.difference(c)"
   ]
  },
  {
   "cell_type": "code",
   "execution_count": null,
   "id": "8152e2f3-9cee-46b9-b090-f1763f64021a",
   "metadata": {},
   "outputs": [],
   "source": []
  }
 ],
 "metadata": {
  "kernelspec": {
   "display_name": "Python [conda env:base] *",
   "language": "python",
   "name": "conda-base-py"
  },
  "language_info": {
   "codemirror_mode": {
    "name": "ipython",
    "version": 3
   },
   "file_extension": ".py",
   "mimetype": "text/x-python",
   "name": "python",
   "nbconvert_exporter": "python",
   "pygments_lexer": "ipython3",
   "version": "3.12.3"
  }
 },
 "nbformat": 4,
 "nbformat_minor": 5
}
