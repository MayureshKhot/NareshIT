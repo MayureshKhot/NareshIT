{
 "cells": [
  {
   "cell_type": "code",
   "execution_count": 1,
   "id": "9dbac7f7-5326-4b03-bf27-a525770ef239",
   "metadata": {},
   "outputs": [
    {
     "data": {
      "text/plain": [
       "2"
      ]
     },
     "execution_count": 1,
     "metadata": {},
     "output_type": "execute_result"
    }
   ],
   "source": [
    "# Function is set of statements.\n",
    "# Converting one datatype into another is called as typecasting.\n",
    "int(2.5)"
   ]
  },
  {
   "cell_type": "code",
   "execution_count": 2,
   "id": "436ba43c-dc41-430a-bea8-82f21a17d2fa",
   "metadata": {},
   "outputs": [
    {
     "ename": "TypeError",
     "evalue": "'float' object cannot be interpreted as an integer",
     "output_type": "error",
     "traceback": [
      "\u001b[1;31m---------------------------------------------------------------------------\u001b[0m",
      "\u001b[1;31mTypeError\u001b[0m                                 Traceback (most recent call last)",
      "Cell \u001b[1;32mIn[2], line 1\u001b[0m\n\u001b[1;32m----> 1\u001b[0m \u001b[38;5;28mint\u001b[39m(\u001b[38;5;241m2.3\u001b[39m,\u001b[38;5;241m4.5\u001b[39m)\n",
      "\u001b[1;31mTypeError\u001b[0m: 'float' object cannot be interpreted as an integer"
     ]
    }
   ],
   "source": [
    "int(2.3,4.5)#Error, only one argument is accepted in typecasting"
   ]
  },
  {
   "cell_type": "code",
   "execution_count": 5,
   "id": "b9fcb10b-41de-43a1-aebd-f1fb5da587df",
   "metadata": {},
   "outputs": [
    {
     "name": "stdout",
     "output_type": "stream",
     "text": [
      "10\n"
     ]
    }
   ],
   "source": [
    "print(int('10'))"
   ]
  },
  {
   "cell_type": "markdown",
   "id": "15ff0bf1-0551-4e0e-a6ab-09b271c8eb6d",
   "metadata": {},
   "source": [
    "### Possible typecasts to Int\n",
    "1. float to int--Possible\n",
    "2. bool to int--Possible\n",
    "3. String to int--Only if the string is number '10'. like int('ten') not possible\n",
    "4. complex to int--Not possible\n",
    "\n",
    "### Possible tupecasts to Float\n",
    "1. int to float--Possible\n",
    "2. bool to float--possible\n",
    "3. complex to float--Not possible\n",
    "4. String to float--Not possible with text, possible with numbers\n",
    "\n",
    "### Possible typecasts to Complex\n",
    "1. int to complex--possible- It takes 1 or 2 arguments\n",
    "2. float to complex--possible\n",
    "3. bool to complex--Possible(it converts the bool into int)\n",
    "4. String to complex--Not possible with 2 arguments but possible with 1 arg\n",
    "\n",
    "### Possible typecasts to bool\n",
    "1. If boolean has arg, it returns true\n",
    "2. If no arg, it returns false\n",
    "3. Takes only valid datatypes\n",
    "\n",
    "### Possible typecasts to String\n",
    "1. every datatype will be converted to string--> simply by adding '' or \"\""
   ]
  },
  {
   "cell_type": "code",
   "execution_count": 6,
   "id": "88ea31f4-59b5-4b21-b4cc-b8f7f3385f09",
   "metadata": {},
   "outputs": [
    {
     "name": "stdout",
     "output_type": "stream",
     "text": [
      "2.0\n",
      "1.0\n"
     ]
    },
    {
     "ename": "ValueError",
     "evalue": "could not convert string to float: 'two'",
     "output_type": "error",
     "traceback": [
      "\u001b[1;31m---------------------------------------------------------------------------\u001b[0m",
      "\u001b[1;31mValueError\u001b[0m                                Traceback (most recent call last)",
      "Cell \u001b[1;32mIn[6], line 3\u001b[0m\n\u001b[0;32m      1\u001b[0m \u001b[38;5;28mprint\u001b[39m(\u001b[38;5;28mfloat\u001b[39m(\u001b[38;5;241m2\u001b[39m))\n\u001b[0;32m      2\u001b[0m \u001b[38;5;28mprint\u001b[39m(\u001b[38;5;28mfloat\u001b[39m(\u001b[38;5;28;01mTrue\u001b[39;00m))\n\u001b[1;32m----> 3\u001b[0m \u001b[38;5;28mprint\u001b[39m(\u001b[38;5;28mfloat\u001b[39m(\u001b[38;5;124m'\u001b[39m\u001b[38;5;124mtwo\u001b[39m\u001b[38;5;124m'\u001b[39m))\n",
      "\u001b[1;31mValueError\u001b[0m: could not convert string to float: 'two'"
     ]
    }
   ],
   "source": [
    "print(float(2))\n",
    "print(float(True))\n",
    "print(float('two')) #Not possible"
   ]
  },
  {
   "cell_type": "code",
   "execution_count": 7,
   "id": "0097f1b2-42dd-4fad-b02c-449aebfcecc2",
   "metadata": {},
   "outputs": [
    {
     "data": {
      "text/plain": [
       "(20+0j)"
      ]
     },
     "execution_count": 7,
     "metadata": {},
     "output_type": "execute_result"
    }
   ],
   "source": [
    "# Complex to int\n",
    "complex(20)"
   ]
  },
  {
   "cell_type": "code",
   "execution_count": 8,
   "id": "f6210bce-4602-48a2-a200-d946ec055389",
   "metadata": {},
   "outputs": [
    {
     "data": {
      "text/plain": [
       "(2+34j)"
      ]
     },
     "execution_count": 8,
     "metadata": {},
     "output_type": "execute_result"
    }
   ],
   "source": [
    "complex(2,34)"
   ]
  },
  {
   "cell_type": "code",
   "execution_count": 9,
   "id": "3db3d06c-b4da-400f-8fd4-116c5617357b",
   "metadata": {},
   "outputs": [
    {
     "ename": "TypeError",
     "evalue": "complex() takes at most 2 arguments (3 given)",
     "output_type": "error",
     "traceback": [
      "\u001b[1;31m---------------------------------------------------------------------------\u001b[0m",
      "\u001b[1;31mTypeError\u001b[0m                                 Traceback (most recent call last)",
      "Cell \u001b[1;32mIn[9], line 1\u001b[0m\n\u001b[1;32m----> 1\u001b[0m \u001b[38;5;28mcomplex\u001b[39m(\u001b[38;5;241m2\u001b[39m,\u001b[38;5;241m4\u001b[39m,\u001b[38;5;241m5\u001b[39m)\n",
      "\u001b[1;31mTypeError\u001b[0m: complex() takes at most 2 arguments (3 given)"
     ]
    }
   ],
   "source": [
    "complex(2,4,5)"
   ]
  },
  {
   "cell_type": "code",
   "execution_count": 10,
   "id": "701d38a7-1669-4e8b-9636-312d3c4e420a",
   "metadata": {},
   "outputs": [
    {
     "ename": "TypeError",
     "evalue": "complex() can't take second arg if first is a string",
     "output_type": "error",
     "traceback": [
      "\u001b[1;31m---------------------------------------------------------------------------\u001b[0m",
      "\u001b[1;31mTypeError\u001b[0m                                 Traceback (most recent call last)",
      "Cell \u001b[1;32mIn[10], line 2\u001b[0m\n\u001b[0;32m      1\u001b[0m \u001b[38;5;66;03m#String to complex\u001b[39;00m\n\u001b[1;32m----> 2\u001b[0m \u001b[38;5;28mcomplex\u001b[39m(\u001b[38;5;124m'\u001b[39m\u001b[38;5;124m1\u001b[39m\u001b[38;5;124m'\u001b[39m,\u001b[38;5;241m2\u001b[39m)\n",
      "\u001b[1;31mTypeError\u001b[0m: complex() can't take second arg if first is a string"
     ]
    }
   ],
   "source": [
    "#String to complex\n",
    "complex('1',2)"
   ]
  },
  {
   "cell_type": "code",
   "execution_count": 11,
   "id": "ff597b0a-3847-4ee9-83e8-aa3ef3f570a6",
   "metadata": {},
   "outputs": [
    {
     "ename": "TypeError",
     "evalue": "complex() second arg can't be a string",
     "output_type": "error",
     "traceback": [
      "\u001b[1;31m---------------------------------------------------------------------------\u001b[0m",
      "\u001b[1;31mTypeError\u001b[0m                                 Traceback (most recent call last)",
      "Cell \u001b[1;32mIn[11], line 1\u001b[0m\n\u001b[1;32m----> 1\u001b[0m \u001b[38;5;28mcomplex\u001b[39m(\u001b[38;5;241m2\u001b[39m, \u001b[38;5;124m'\u001b[39m\u001b[38;5;124m1\u001b[39m\u001b[38;5;124m'\u001b[39m)\n",
      "\u001b[1;31mTypeError\u001b[0m: complex() second arg can't be a string"
     ]
    }
   ],
   "source": [
    "complex(2, '1')"
   ]
  },
  {
   "cell_type": "code",
   "execution_count": 12,
   "id": "e3be2ba7-c46f-4da0-917f-798e43582e7a",
   "metadata": {},
   "outputs": [
    {
     "ename": "TypeError",
     "evalue": "complex() can't take second arg if first is a string",
     "output_type": "error",
     "traceback": [
      "\u001b[1;31m---------------------------------------------------------------------------\u001b[0m",
      "\u001b[1;31mTypeError\u001b[0m                                 Traceback (most recent call last)",
      "Cell \u001b[1;32mIn[12], line 1\u001b[0m\n\u001b[1;32m----> 1\u001b[0m \u001b[38;5;28mcomplex\u001b[39m(\u001b[38;5;124m'\u001b[39m\u001b[38;5;124m2\u001b[39m\u001b[38;5;124m'\u001b[39m, \u001b[38;5;124m'\u001b[39m\u001b[38;5;124m3\u001b[39m\u001b[38;5;124m'\u001b[39m)\n",
      "\u001b[1;31mTypeError\u001b[0m: complex() can't take second arg if first is a string"
     ]
    }
   ],
   "source": [
    "complex('2', '3')"
   ]
  },
  {
   "cell_type": "code",
   "execution_count": 13,
   "id": "7c52c7a5-7231-4254-923d-08c864a40250",
   "metadata": {},
   "outputs": [
    {
     "data": {
      "text/plain": [
       "(2+0j)"
      ]
     },
     "execution_count": 13,
     "metadata": {},
     "output_type": "execute_result"
    }
   ],
   "source": [
    "complex('2')"
   ]
  },
  {
   "cell_type": "code",
   "execution_count": 14,
   "id": "c0e8741a-47e1-4f0c-8b60-51a7679ab7db",
   "metadata": {},
   "outputs": [
    {
     "name": "stdout",
     "output_type": "stream",
     "text": [
      "True\n",
      "True\n",
      "True\n",
      "True\n"
     ]
    }
   ],
   "source": [
    "#Boolean Operations\n",
    "print(bool(1))\n",
    "print(bool(1.1))\n",
    "print(bool(1+2j))\n",
    "print(bool('str'))"
   ]
  },
  {
   "cell_type": "code",
   "execution_count": null,
   "id": "374f869b-b3fc-4eb4-9dd6-28757710ef93",
   "metadata": {},
   "outputs": [],
   "source": []
  }
 ],
 "metadata": {
  "kernelspec": {
   "display_name": "Python [conda env:base] *",
   "language": "python",
   "name": "conda-base-py"
  },
  "language_info": {
   "codemirror_mode": {
    "name": "ipython",
    "version": 3
   },
   "file_extension": ".py",
   "mimetype": "text/x-python",
   "name": "python",
   "nbconvert_exporter": "python",
   "pygments_lexer": "ipython3",
   "version": "3.12.7"
  }
 },
 "nbformat": 4,
 "nbformat_minor": 5
}
