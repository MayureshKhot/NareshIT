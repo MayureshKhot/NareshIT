{
 "cells": [
  {
   "cell_type": "markdown",
   "id": "f2cca240-4609-4961-8816-8a2c0055561e",
   "metadata": {},
   "source": [
    "# Basic Operators\n",
    "1. Know the difference between * and **\n",
    "2. Know the difference between / and //\n",
    "3. % Modulus= returns the reminders\n",
    "\n",
    "## types:\n",
    "1. Arithmetic: +,-,*,**,/,//\n",
    "2. logical: and, or, not\n",
    "3. relational: to compare: <, >, <=, >=, ==, !=\n",
    "4. assignment: =, +=, *=, *=, /=, //=\n",
    "5. unary: means only 1 operator: - operator. minus is called unary operator"
   ]
  },
  {
   "cell_type": "code",
   "execution_count": 2,
   "id": "6bcad0bd-8628-4466-bef3-23fa687f3904",
   "metadata": {},
   "outputs": [
    {
     "data": {
      "text/plain": [
       "3"
      ]
     },
     "execution_count": 2,
     "metadata": {},
     "output_type": "execute_result"
    }
   ],
   "source": [
    "10 // 3 # thiw will give the answers of the division but in int instead of float"
   ]
  },
  {
   "cell_type": "markdown",
   "id": "f883ee57-4a21-4e50-9048-e7f2f29c8784",
   "metadata": {},
   "source": [
    "### Errors\n",
    "\n",
    "1. Syntax Error: Error because of typing mistakes\n",
    "2. Type Error: 3 + 'nit': TypeError: Because int and str cannot be concatenated\n",
    "3. Unterminated string literal: when '' and \"\"\" are mixed. E.g: 'Hi it's \"Mayuresh\"'\n",
    "   - How to solve this? use forward slash: \\\n",
    "   - Ex: 'Hi it\\'s \"Mayuresh\"'"
   ]
  },
  {
   "cell_type": "code",
   "execution_count": 5,
   "id": "c4fcb774-7772-490b-83ee-a112af60f568",
   "metadata": {},
   "outputs": [
    {
     "name": "stdout",
     "output_type": "stream",
     "text": [
      "Hi it's \"Mayuresh\"\n"
     ]
    }
   ],
   "source": [
    "print('Hi it\\'s \"Mayuresh\"')"
   ]
  },
  {
   "cell_type": "markdown",
   "id": "5c6efa49-fab8-4d8c-ac16-7b0505dc2f7e",
   "metadata": {},
   "source": [
    "# String\n",
    "1. String is immutable"
   ]
  },
  {
   "cell_type": "code",
   "execution_count": 4,
   "id": "17af7cb4-d514-4358-83ca-17d9d0832a74",
   "metadata": {},
   "outputs": [
    {
     "data": {
      "text/plain": [
       "'\\nHi I said this, \"What the hell?\"\\n'"
      ]
     },
     "execution_count": 4,
     "metadata": {},
     "output_type": "execute_result"
    }
   ],
   "source": [
    "str='''\n",
    "Hi I said this, \"What the hell?\"\n",
    "'''\n",
    "str\n"
   ]
  },
  {
   "cell_type": "code",
   "execution_count": 6,
   "id": "37bdeeec-3d5c-4621-9843-a7d256ee7a19",
   "metadata": {},
   "outputs": [
    {
     "data": {
      "text/plain": [
       "'nitnit'"
      ]
     },
     "execution_count": 6,
     "metadata": {},
     "output_type": "execute_result"
    }
   ],
   "source": [
    "'nit'+'nit'"
   ]
  },
  {
   "cell_type": "code",
   "execution_count": 13,
   "id": "6b99b867-b8cc-4a18-b0d1-d0c05f0c86a6",
   "metadata": {},
   "outputs": [
    {
     "data": {
      "text/plain": [
       "'nitnit'"
      ]
     },
     "execution_count": 13,
     "metadata": {},
     "output_type": "execute_result"
    }
   ],
   "source": [
    "'nit' 'nit' #this also works\n",
    "# Variables with variable won't work\n",
    "# EX."
   ]
  },
  {
   "cell_type": "code",
   "execution_count": 14,
   "id": "d552415d-d423-416e-9029-8c0e225eac11",
   "metadata": {},
   "outputs": [
    {
     "data": {
      "text/plain": [
       "'Thisnit'"
      ]
     },
     "execution_count": 14,
     "metadata": {},
     "output_type": "execute_result"
    }
   ],
   "source": [
    "name='This'\n",
    "name + 'nit' #won't work"
   ]
  },
  {
   "cell_type": "markdown",
   "id": "d5139d14-9f02-4adc-8718-a4e464fc84a5",
   "metadata": {},
   "source": [
    "### Differencce between String and raw String\n",
    "- raw string: use r before string\n",
    "- "
   ]
  },
  {
   "cell_type": "code",
   "execution_count": 10,
   "id": "dd00ddcd-bb21-4d45-a610-efa356b01b3f",
   "metadata": {},
   "outputs": [
    {
     "name": "stdout",
     "output_type": "stream",
     "text": [
      "c:\n",
      "it\n"
     ]
    }
   ],
   "source": [
    "# Exampls\n",
    "\n",
    "print(\"c:\\nit\") # This is normal string, it cosiders \\n as command for new line"
   ]
  },
  {
   "cell_type": "code",
   "execution_count": 12,
   "id": "186dbfa6-1191-481e-b191-4382a7e1058b",
   "metadata": {},
   "outputs": [
    {
     "name": "stdout",
     "output_type": "stream",
     "text": [
      "c:\\nit\n"
     ]
    }
   ],
   "source": [
    "print(r\"c:\\nit\") # writing r here, says it's a raw string."
   ]
  },
  {
   "cell_type": "markdown",
   "id": "c400c170-b254-4dc2-a6a2-f7c6426d518d",
   "metadata": {},
   "source": [
    "# _ stores previous values"
   ]
  },
  {
   "cell_type": "code",
   "execution_count": null,
   "id": "5e76dbeb-3f2c-46bf-b6ed-9ae024c7d3a1",
   "metadata": {},
   "outputs": [],
   "source": [
    "a=30"
   ]
  },
  {
   "cell_type": "code",
   "execution_count": null,
   "id": "82d9223b-71c5-484b-859e-d11afe37071a",
   "metadata": {},
   "outputs": [],
   "source": [
    "# In python, there are not const as in Java, thery are just variables, but written in CAPS, to say, don't change this\n",
    "# But it's changable."
   ]
  },
  {
   "cell_type": "markdown",
   "id": "957eaa20-9d2b-4df3-a76a-187ee5181824",
   "metadata": {},
   "source": [
    "# Range Function "
   ]
  },
  {
   "cell_type": "code",
   "execution_count": 18,
   "id": "80ba4e4f-8d55-4b68-8fbe-e188a46a1d0b",
   "metadata": {},
   "outputs": [],
   "source": [
    "r=range(10)"
   ]
  },
  {
   "cell_type": "code",
   "execution_count": 17,
   "id": "5c023c48-7dd5-483c-9a6d-448dd2c915bd",
   "metadata": {},
   "outputs": [
    {
     "data": {
      "text/plain": [
       "[0, 1, 2, 3, 4, 5, 6, 7, 8, 9]"
      ]
     },
     "execution_count": 17,
     "metadata": {},
     "output_type": "execute_result"
    }
   ],
   "source": [
    "list(range(10))"
   ]
  },
  {
   "cell_type": "code",
   "execution_count": 20,
   "id": "b05fd303-490d-4ba1-803e-94b7f8d0d527",
   "metadata": {},
   "outputs": [
    {
     "data": {
      "text/plain": [
       "[10, 11, 12, 13, 14, 15, 16, 17, 18, 19]"
      ]
     },
     "execution_count": 20,
     "metadata": {},
     "output_type": "execute_result"
    }
   ],
   "source": [
    "list(range (10, 20))"
   ]
  },
  {
   "cell_type": "code",
   "execution_count": 21,
   "id": "0fd3cc12-c35f-4051-bd16-d4eaffe84f09",
   "metadata": {},
   "outputs": [
    {
     "name": "stdout",
     "output_type": "stream",
     "text": [
      "0\n",
      "1\n",
      "2\n",
      "3\n",
      "4\n",
      "5\n",
      "6\n",
      "7\n",
      "8\n",
      "9\n"
     ]
    }
   ],
   "source": [
    "for i in r:\n",
    "    print(i)"
   ]
  },
  {
   "cell_type": "code",
   "execution_count": 22,
   "id": "63725042-bff2-4776-81a6-ab3c202d69c7",
   "metadata": {},
   "outputs": [
    {
     "data": {
      "text/plain": [
       "[10, 15, 20, 25, 30, 35, 40, 45]"
      ]
     },
     "execution_count": 22,
     "metadata": {},
     "output_type": "execute_result"
    }
   ],
   "source": [
    "list(range(10, 50, 5)) # third argument is the steps/difference\n",
    "# Params=start, stop, step"
   ]
  },
  {
   "cell_type": "code",
   "execution_count": 24,
   "id": "bf5bca47-8fb8-4d4b-b45e-953983aa22a7",
   "metadata": {},
   "outputs": [
    {
     "data": {
      "text/plain": [
       "[2, 4, 6, 8, 10, 12, 14, 16, 18]"
      ]
     },
     "execution_count": 24,
     "metadata": {},
     "output_type": "execute_result"
    }
   ],
   "source": [
    "even_numbers=list(range(2,20,2))\n",
    "even_numbers"
   ]
  },
  {
   "cell_type": "markdown",
   "id": "b1f7c663-b320-4fd9-a4bf-fab623ecdb02",
   "metadata": {},
   "source": [
    "# Number System\n",
    "\n",
    "1. Binary- base 2 (0, 1)\n",
    "   - To find the Binary, divide the number by 2, look at the reminders, and write them in reverse order, that will be your binary for a number.\n",
    "3. Octal- base 8 (0 to 7)\n",
    "4. Decimal- base 10 (0 to 9)\n",
    "5. Hexadecimal- base 16 (0 to 9, a-f) -> Every IP address is Hexadecimal\n",
    "\n"
   ]
  },
  {
   "cell_type": "code",
   "execution_count": 1,
   "id": "defbf28f-2739-41c7-816b-79beadc8acaa",
   "metadata": {},
   "outputs": [
    {
     "data": {
      "text/plain": [
       "'0b11001'"
      ]
     },
     "execution_count": 1,
     "metadata": {},
     "output_type": "execute_result"
    }
   ],
   "source": [
    "bin(25)"
   ]
  },
  {
   "cell_type": "code",
   "execution_count": 2,
   "id": "a8ac6a03-51b7-48a7-b368-ab9db18821e7",
   "metadata": {},
   "outputs": [
    {
     "data": {
      "text/plain": [
       "25"
      ]
     },
     "execution_count": 2,
     "metadata": {},
     "output_type": "execute_result"
    }
   ],
   "source": [
    "int(0b11001)"
   ]
  },
  {
   "cell_type": "code",
   "execution_count": 3,
   "id": "24a25464-2666-4a36-b4c5-4a6063e54d6d",
   "metadata": {},
   "outputs": [
    {
     "data": {
      "text/plain": [
       "'0x1'"
      ]
     },
     "execution_count": 3,
     "metadata": {},
     "output_type": "execute_result"
    }
   ],
   "source": [
    "hex(1)"
   ]
  },
  {
   "cell_type": "code",
   "execution_count": 4,
   "id": "a7d84ae3-23a5-465a-979b-7690b65d8a8d",
   "metadata": {},
   "outputs": [
    {
     "data": {
      "text/plain": [
       "'0x9'"
      ]
     },
     "execution_count": 4,
     "metadata": {},
     "output_type": "execute_result"
    }
   ],
   "source": [
    "hex(9)"
   ]
  },
  {
   "cell_type": "code",
   "execution_count": 5,
   "id": "b4806887-b2c0-40b0-95b1-08f12a380094",
   "metadata": {},
   "outputs": [
    {
     "data": {
      "text/plain": [
       "'0xa'"
      ]
     },
     "execution_count": 5,
     "metadata": {},
     "output_type": "execute_result"
    }
   ],
   "source": [
    "hex(10)"
   ]
  },
  {
   "cell_type": "code",
   "execution_count": 7,
   "id": "c4c3a4e8-162d-431d-9937-6b160859f2d9",
   "metadata": {},
   "outputs": [
    {
     "data": {
      "text/plain": [
       "'0xf'"
      ]
     },
     "execution_count": 7,
     "metadata": {},
     "output_type": "execute_result"
    }
   ],
   "source": [
    "hex(15)"
   ]
  },
  {
   "cell_type": "markdown",
   "id": "7d5f515c-d3d7-4e19-82dd-4a9a7dfb263c",
   "metadata": {},
   "source": [
    "## Swap 2 variables in Python"
   ]
  },
  {
   "cell_type": "code",
   "execution_count": 8,
   "id": "5fa3898f-90c0-42e2-92dd-d2b9f1dad1f0",
   "metadata": {},
   "outputs": [],
   "source": [
    "a=5\n",
    "b=6"
   ]
  },
  {
   "cell_type": "code",
   "execution_count": 9,
   "id": "3a895a24-89ba-4c53-b8c1-fd956b14cb88",
   "metadata": {},
   "outputs": [
    {
     "name": "stdout",
     "output_type": "stream",
     "text": [
      "6\n",
      "5\n"
     ]
    }
   ],
   "source": [
    "c=0\n",
    "\n",
    "c=a\n",
    "a=b\n",
    "b=c\n",
    "print(a)\n",
    "print(b)"
   ]
  },
  {
   "cell_type": "markdown",
   "id": "6f0fb9da-409c-4b29-bf24-34701b872ad1",
   "metadata": {},
   "source": [
    "## Swap 2 variables without temp variable"
   ]
  },
  {
   "cell_type": "code",
   "execution_count": 10,
   "id": "4a02b504-c0f7-46b4-a8cc-212a7a5b1211",
   "metadata": {},
   "outputs": [
    {
     "name": "stdout",
     "output_type": "stream",
     "text": [
      "6\n",
      "5\n"
     ]
    }
   ],
   "source": [
    "a=5\n",
    "b=6\n",
    "a=a+b\n",
    "b=a-b\n",
    "a=a-b\n",
    "print(a)\n",
    "print(b)"
   ]
  },
  {
   "cell_type": "code",
   "execution_count": 12,
   "id": "e8291225-a5e0-4238-ad55-b3668c91cc9f",
   "metadata": {},
   "outputs": [
    {
     "name": "stdout",
     "output_type": "stream",
     "text": [
      "6\n",
      "5\n"
     ]
    }
   ],
   "source": [
    "# Easy system\n",
    "a,b=b,a\n",
    "print(a)\n",
    "print(b)"
   ]
  },
  {
   "cell_type": "markdown",
   "id": "6303b31c-0a73-4b53-8b0e-cb7e63895192",
   "metadata": {},
   "source": [
    "# Bitwise Operators\n",
    "\n",
    "1. complement = ~\n",
    "    - It flips all bits of an integer. In simple terms:\n",
    "    - ~x is equal to -(x + 1) \n",
    "3. and = &\n",
    "4. or = |\n",
    "5. xor = ^ - Exclusive or\n",
    "6. left shift = << - here we gain the bits\n",
    "7. right shift = >> - here we lose the bits"
   ]
  },
  {
   "cell_type": "markdown",
   "id": "13dcb0fb-12b5-41e4-b298-3a4e6b0a955c",
   "metadata": {},
   "source": [
    "Here is the **simplest, clearest explanation** for each bitwise operator:\n",
    "\n",
    "---\n",
    "\n",
    "### 🧠 **Bitwise Operators (Super Simple)**\n",
    "\n",
    "#### **1. Complement (\\~)**\n",
    "\n",
    "✅ **What it does:** Flips all bits\n",
    "\n",
    "➡️ **Shortcut formula:**\n",
    "`~x = -(x + 1)`\n",
    "\n",
    "**Example:**\n",
    "`~5 = -6`\n",
    "\n",
    "---\n",
    "\n",
    "#### **2. AND (&)**\n",
    "\n",
    "✅ **What it does:** Compares bits. If **both are 1**, result is 1. Else, 0.\n",
    "\n",
    "| Example | Binary                    |\n",
    "| ------- | ------------------------- |\n",
    "| 12 & 13 | `1100 & 1101 = 1100 (12)` |\n",
    "\n",
    "---\n",
    "\n",
    "#### **3. OR (|)**\n",
    "\n",
    "✅ **What it does:** Compares bits. If **any is 1**, result is 1.\n",
    "\n",
    "| Example  | Binary |                    |\n",
    "| -------- | ------ | ------------------ |\n",
    "| 12 \\| 13 | \\`1100 | 1101 = 1101 (13)\\` |\n",
    "\n",
    "---\n",
    "\n",
    "#### **4. XOR (^) – Exclusive OR**\n",
    "\n",
    "✅ **What it does:** Compares bits. If **bits are different**, result is 1.\n",
    "\n",
    "| Example | Binary                   |\n",
    "| ------- | ------------------------ |\n",
    "| 12 ^ 13 | `1100 ^ 1101 = 0001 (1)` |\n",
    "\n",
    "---\n",
    "\n",
    "#### **5. Left Shift (<<)**\n",
    "\n",
    "✅ **What it does:** Moves bits **left by n places**, fills with 0s at right.\n",
    "➡️ **Multiplies by 2ⁿ**\n",
    "\n",
    "| Example | Binary             |\n",
    "| ------- | ------------------ |\n",
    "| 3 << 2  | `0011 → 1100 (12)` |\n",
    "\n",
    "---\n",
    "\n",
    "#### **6. Right Shift (>>)**\n",
    "\n",
    "✅ **What it does:** Moves bits **right by n places**, removes bits on right.\n",
    "➡️ **Divides by 2ⁿ**\n",
    "\n",
    "| Example | Binary            |\n",
    "| ------- | ----------------- |\n",
    "| 8 >> 2  | `1000 → 0010 (2)` |\n",
    "\n",
    "---\n",
    "\n",
    "### ⚔️ **In One Line Summary**\n",
    "\n",
    "> **Bitwise operators manipulate numbers at their binary (bit) level to achieve fast and efficient operations.**\n"
   ]
  },
  {
   "cell_type": "code",
   "execution_count": null,
   "id": "62da5a70-f8d4-408e-9e38-1b0b70e908c0",
   "metadata": {},
   "outputs": [],
   "source": []
  }
 ],
 "metadata": {
  "kernelspec": {
   "display_name": "Python [conda env:base] *",
   "language": "python",
   "name": "conda-base-py"
  },
  "language_info": {
   "codemirror_mode": {
    "name": "ipython",
    "version": 3
   },
   "file_extension": ".py",
   "mimetype": "text/x-python",
   "name": "python",
   "nbconvert_exporter": "python",
   "pygments_lexer": "ipython3",
   "version": "3.12.3"
  }
 },
 "nbformat": 4,
 "nbformat_minor": 5
}
