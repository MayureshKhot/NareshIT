{
 "cells": [
  {
   "cell_type": "code",
   "execution_count": null,
   "id": "f4735b78-d32d-476a-865b-151d782752a0",
   "metadata": {},
   "outputs": [],
   "source": []
  },
  {
   "cell_type": "code",
   "execution_count": 1,
   "id": "934dc52d-1f29-4aac-b8e3-5cc94f27875c",
   "metadata": {},
   "outputs": [],
   "source": [
    "# In python, even 1 space indentation works! I thought 4 spaces was a must.\n",
    "\n",
    "# If we can use multiple ifs, why we need elif and else?\n",
    "# -> because the code with multiple ifs will take more memory, because even if\n",
    "# one if is executed, it'll still go on to the next if, therefore for memory\n",
    "# Memory Optimization, we use elif and else."
   ]
  },
  {
   "cell_type": "code",
   "execution_count": 2,
   "id": "b7f0cd97-85dc-4a47-90b9-e6f288c18a01",
   "metadata": {},
   "outputs": [],
   "source": [
    "# Loops\n",
    "# - While loop\n",
    "# - For loop"
   ]
  },
  {
   "cell_type": "markdown",
   "id": "631cec29-e013-4d77-b0c7-2c7007a74b5b",
   "metadata": {},
   "source": [
    "### While Loop\n",
    "- Used to loop with condional statements.\n",
    "\n",
    "### For Loop\n",
    "- Used to loop with iterables like list, tuple, string,\n",
    "\n",
    "**Break**\n",
    "- Keyword that breaks the loop as per the condition.\n",
    "\n",
    "**Continue**\n",
    "- It will skip the conditional thing and contine the rest of the loop\n",
    "\n",
    "**Pass**\n",
    "- Pass will pass the loop without throwing any error\n",
    "\n",
    "## For-Else\n",
    "- This concept is only in python, no other languages.\n",
    "- "
   ]
  },
  {
   "cell_type": "code",
   "execution_count": 3,
   "id": "7f8219c0-c86d-44f3-aa49-ff05aab2c8a5",
   "metadata": {},
   "outputs": [
    {
     "name": "stdout",
     "output_type": "stream",
     "text": [
      "1\n",
      "2\n",
      "3\n",
      "4\n",
      "5\n"
     ]
    }
   ],
   "source": [
    "for i in range(1,10):\n",
    "    if i == 6:\n",
    "        break\n",
    "    print(i)"
   ]
  },
  {
   "cell_type": "code",
   "execution_count": 4,
   "id": "3c481ac2-7ad4-4e3f-ad50-2ddbe6a92726",
   "metadata": {},
   "outputs": [
    {
     "name": "stdout",
     "output_type": "stream",
     "text": [
      "1\n",
      "2\n",
      "3\n",
      "4\n",
      "5\n",
      "7\n",
      "8\n",
      "9\n"
     ]
    }
   ],
   "source": [
    "for i in range(1,10):\n",
    "    if i == 6:\n",
    "        continue\n",
    "    print(i)"
   ]
  },
  {
   "cell_type": "code",
   "execution_count": 5,
   "id": "62ccc585-6eb8-4e10-8563-f61379bf69f3",
   "metadata": {},
   "outputs": [],
   "source": [
    "for i in range(1,10):\n",
    "    pass"
   ]
  },
  {
   "cell_type": "code",
   "execution_count": 8,
   "id": "c682f6d5-9c32-4fc2-be4c-6d673144f9e0",
   "metadata": {},
   "outputs": [
    {
     "name": "stdout",
     "output_type": "stream",
     "text": [
      "1\n",
      "2\n",
      "4\n",
      "7\n",
      "8\n",
      "11\n",
      "13\n",
      "14\n",
      "16\n",
      "17\n",
      "19\n",
      "22\n",
      "23\n",
      "26\n",
      "28\n",
      "29\n",
      "31\n",
      "32\n",
      "34\n",
      "37\n",
      "38\n",
      "41\n",
      "43\n",
      "44\n",
      "46\n",
      "47\n",
      "49\n",
      "end\n"
     ]
    }
   ],
   "source": [
    "for i in range(1,51):\n",
    "    if i % 3 != 0 and i % 5 != 0:\n",
    "        print(i)\n",
    "print('end')"
   ]
  },
  {
   "cell_type": "code",
   "execution_count": 11,
   "id": "d37e7e9d-ba54-4239-a3b9-42cb3fe5d480",
   "metadata": {},
   "outputs": [
    {
     "name": "stdout",
     "output_type": "stream",
     "text": [
      "1\n",
      "2\n",
      "4\n",
      "7\n",
      "8\n",
      "11\n",
      "13\n",
      "14\n",
      "16\n",
      "17\n",
      "19\n",
      "22\n",
      "23\n",
      "26\n",
      "28\n",
      "29\n",
      "31\n",
      "32\n",
      "34\n",
      "37\n",
      "38\n",
      "41\n",
      "43\n",
      "44\n",
      "46\n",
      "47\n",
      "49\n",
      "end\n"
     ]
    }
   ],
   "source": [
    "for i in range(1,51):\n",
    "    if i % 3 == 0 or i % 5 == 0:\n",
    "        continue\n",
    "    print(i)\n",
    "print('end')"
   ]
  },
  {
   "cell_type": "code",
   "execution_count": 12,
   "id": "01f54a08-00af-40fe-9e01-9e56249cf2ba",
   "metadata": {},
   "outputs": [
    {
     "name": "stdout",
     "output_type": "stream",
     "text": [
      "# # # #\n",
      "# # # #\n",
      "# # # #\n",
      "# # # #\n"
     ]
    }
   ],
   "source": [
    "for i in range(1,5):\n",
    "    i=i+1\n",
    "    print('# # # #')"
   ]
  },
  {
   "cell_type": "code",
   "execution_count": null,
   "id": "5bfc45a8-a6ac-4c9e-a988-825ef9016de1",
   "metadata": {},
   "outputs": [],
   "source": []
  },
  {
   "cell_type": "code",
   "execution_count": null,
   "id": "233ea13c-a3c9-48d9-b761-413a945efa3c",
   "metadata": {},
   "outputs": [],
   "source": []
  }
 ],
 "metadata": {
  "kernelspec": {
   "display_name": "Python [conda env:base] *",
   "language": "python",
   "name": "conda-base-py"
  },
  "language_info": {
   "codemirror_mode": {
    "name": "ipython",
    "version": 3
   },
   "file_extension": ".py",
   "mimetype": "text/x-python",
   "name": "python",
   "nbconvert_exporter": "python",
   "pygments_lexer": "ipython3",
   "version": "3.12.3"
  }
 },
 "nbformat": 4,
 "nbformat_minor": 5
}
