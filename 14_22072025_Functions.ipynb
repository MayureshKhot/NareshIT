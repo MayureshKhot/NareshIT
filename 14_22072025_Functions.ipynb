{
 "cells": [
  {
   "cell_type": "markdown",
   "id": "64ef6cd8-8021-4288-86ce-c3d9f3db6e22",
   "metadata": {},
   "source": [
    "# Function\n",
    "\n",
    "## 🚀 Definition of a Function in Python\n",
    "- A function is a block of reusable code that performs a specific task. Functions help in:\n",
    "\n",
    "   - Organising code logically\n",
    "\n",
    "   - Avoiding repetition (DRY principle)\n",
    "\n",
    "   - Enhancing readability and maintainability\n",
    " \n",
    "## 🔑 Must-Know Points About Functions\n",
    "1. def Keyword\n",
    "\n",
    "- Functions are defined using the def keyword followed by the function name and parentheses.\n",
    "\n",
    "2. Function Name\n",
    "\n",
    "- Should follow naming rules: start with a letter or underscore, cannot start with a digit, and avoid Python keywords.\n",
    "\n",
    "3. Parameters vs Arguments\n",
    "\n",
    "- Parameters are variables listed inside the function definition.\n",
    "\n",
    "- Arguments are the actual values passed to the function when it is called.\n",
    "\n",
    "4. Return Statement\n",
    "\n",
    "- return sends a value back to the caller and ends the function execution.\n",
    "\n",
    "- If no return is used, the function returns None by default.\n",
    "\n",
    "5. Types of Functions\n",
    "\n",
    "- Built-in functions (e.g. print(), len())\n",
    "\n",
    "- User-defined functions (custom functions you create)\n",
    "\n",
    "- Lambda (anonymous) functions\n",
    "\n",
    "6. Function Call\n",
    "\n",
    "- To execute a function, call it by its name with required arguments: function_name(arguments)\n",
    "\n",
    "7. Default Parameters\n",
    "\n",
    "- You can assign default values to parameters, making them optional during calls."
   ]
  },
  {
   "cell_type": "code",
   "execution_count": 1,
   "id": "fce8f1dd-1369-4559-ac2a-04fa963ce099",
   "metadata": {},
   "outputs": [
    {
     "name": "stdout",
     "output_type": "stream",
     "text": [
      "Hello Arjun\n",
      "Hello User\n"
     ]
    }
   ],
   "source": [
    "def greet(name=\"User\"):\n",
    "    print(\"Hello\", name)\n",
    "\n",
    "greet(\"Arjun\")  # Output: Hello Arjun\n",
    "greet()         # Output: Hello User\n"
   ]
  },
  {
   "cell_type": "markdown",
   "id": "95ff3a5e-8e31-41a4-b268-b2da02873d86",
   "metadata": {},
   "source": [
    "8. Keyword Arguments\n",
    "\n",
    "    - You can call functions using parameter=value syntax for clarity:"
   ]
  },
  {
   "cell_type": "code",
   "execution_count": 2,
   "id": "aa656a31-db2d-49bb-aab1-1236324d465b",
   "metadata": {},
   "outputs": [
    {
     "name": "stdout",
     "output_type": "stream",
     "text": [
      "Ravi 20\n"
     ]
    }
   ],
   "source": [
    "def student(name, age):\n",
    "    print(name, age)\n",
    "\n",
    "student(age=20, name=\"Ravi\")\n"
   ]
  },
  {
   "cell_type": "markdown",
   "id": "4510fc0b-6f3d-486a-a453-b0e8c24d428a",
   "metadata": {},
   "source": [
    "9. Variable-length Arguments\n",
    "\n",
    "    - *args for multiple positional arguments\n",
    "\n",
    "    - **kwargs for multiple keyword arguments"
   ]
  },
  {
   "cell_type": "code",
   "execution_count": 3,
   "id": "f8b05619-d82f-4489-882f-6250113045b0",
   "metadata": {},
   "outputs": [
    {
     "name": "stdout",
     "output_type": "stream",
     "text": [
      "10\n"
     ]
    }
   ],
   "source": [
    "def add(*numbers):\n",
    "    return sum(numbers)\n",
    "\n",
    "print(add(1, 2, 3, 4))  # Output: 10\n"
   ]
  },
  {
   "cell_type": "markdown",
   "id": "585de4c1-6ed3-4e19-b54a-16065ca51702",
   "metadata": {},
   "source": [
    "10. Scope of Variables\n",
    "\n",
    "    - Local variables exist only within the function.\n",
    "\n",
    "    - Global variables are declared outside and accessible within functions using global keyword if modified.\n",
    "\n",
    "11. Docstrings\n",
    "\n",
    "    - First string in a function to document its purpose."
   ]
  },
  {
   "cell_type": "code",
   "execution_count": 4,
   "id": "82db55db-3df5-4d27-9279-cdb0f90f6130",
   "metadata": {},
   "outputs": [],
   "source": [
    "def add(a, b):\n",
    "    \"\"\"This function returns the sum of two numbers.\"\"\"\n",
    "    return a + b\n"
   ]
  },
  {
   "cell_type": "markdown",
   "id": "14f9c2f7-e834-40fd-a8ea-b387c66a1609",
   "metadata": {},
   "source": [
    "12. Recursion\n",
    "\n",
    "- A function calling itself to solve a problem (with base condition to end recursion)."
   ]
  },
  {
   "cell_type": "markdown",
   "id": "a83fd710-0afb-4564-a3ca-21589197a6eb",
   "metadata": {},
   "source": [
    "## 💡 Summary\n",
    "- ✔️ Functions = reusable code blocks\n",
    "- ✔️ Defined using def\n",
    "- ✔️ Enhance readability, reduce duplication, and simplify complex programs\n",
    "- ✔️ Understand parameters, arguments, scope, return, and variable-length arguments for strong Python foundations."
   ]
  },
  {
   "cell_type": "markdown",
   "id": "5316e7ed-3cd9-4cb7-a51b-bd90f4840d51",
   "metadata": {},
   "source": [
    "## Nit Notes\n",
    "\n",
    "### Arguments\n",
    "1. formal argument:\n",
    "   - We'll define at the time of declaring the functions\n",
    "   - def func(name)\n",
    "2. Actual Argument:\n",
    "   - We'll define at the time of calling\n",
    "   - def func('Mayuresh')\n",
    "   1. Positional argument\n",
    "   2. Keyword argument\n",
    "   3. Default argument\n",
    "   4. Variable argument\n",
    "   5. swargs (keyword arg + variable length arg)\n",
    "\n",
    "### Return Keyword\n",
    "- Within functions, you always use return keyword\n"
   ]
  },
  {
   "cell_type": "code",
   "execution_count": null,
   "id": "e7c5e307-73ec-4b38-b61d-97bb6a1ba2b3",
   "metadata": {},
   "outputs": [],
   "source": []
  }
 ],
 "metadata": {
  "kernelspec": {
   "display_name": "Python [conda env:base] *",
   "language": "python",
   "name": "conda-base-py"
  },
  "language_info": {
   "codemirror_mode": {
    "name": "ipython",
    "version": 3
   },
   "file_extension": ".py",
   "mimetype": "text/x-python",
   "name": "python",
   "nbconvert_exporter": "python",
   "pygments_lexer": "ipython3",
   "version": "3.12.3"
  }
 },
 "nbformat": 4,
 "nbformat_minor": 5
}
