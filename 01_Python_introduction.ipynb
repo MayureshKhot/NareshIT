{
 "cells": [
  {
   "cell_type": "code",
   "execution_count": 1,
   "id": "e98538b8-bfce-44df-aff0-3a747376ce45",
   "metadata": {},
   "outputs": [
    {
     "data": {
      "text/plain": [
       "5"
      ]
     },
     "execution_count": 1,
     "metadata": {},
     "output_type": "execute_result"
    }
   ],
   "source": [
    "v=5\n",
    "v"
   ]
  },
  {
   "cell_type": "code",
   "execution_count": 2,
   "id": "19844cf9-8d03-4fe3-ba8e-7cdf7aa793f8",
   "metadata": {},
   "outputs": [
    {
     "data": {
      "text/plain": [
       "140711603499944"
      ]
     },
     "execution_count": 2,
     "metadata": {},
     "output_type": "execute_result"
    }
   ],
   "source": [
    "id(v) #Address of the memory location"
   ]
  },
  {
   "cell_type": "code",
   "execution_count": 3,
   "id": "8cf6f599-b20c-4d52-90b0-8d6b037a4bd0",
   "metadata": {},
   "outputs": [
    {
     "ename": "SyntaxError",
     "evalue": "cannot assign to literal here. Maybe you meant '==' instead of '='? (3551119421.py, line 1)",
     "output_type": "error",
     "traceback": [
      "  \u001b[36mCell\u001b[39m\u001b[36m \u001b[39m\u001b[32mIn[3]\u001b[39m\u001b[32m, line 1\u001b[39m\n\u001b[31m    \u001b[39m\u001b[31m5=v\u001b[39m\n    ^\n\u001b[31mSyntaxError\u001b[39m\u001b[31m:\u001b[39m cannot assign to literal here. Maybe you meant '==' instead of '='?\n"
     ]
    }
   ],
   "source": [
    "5=v #Variables does not start with number\n",
    "# 1v=9 will this give error our output?"
   ]
  },
  {
   "cell_type": "markdown",
   "id": "ecd1a8c7-d5b4-4af5-a93b-fccd8b563de0",
   "metadata": {},
   "source": [
    "## Error types\n",
    "- Compile time error\n",
    "- Runtime error\n",
    "- logical error"
   ]
  },
  {
   "cell_type": "markdown",
   "id": "334b127a-4c49-4457-88a2-1a96d456f199",
   "metadata": {},
   "source": [
    "### Rules to define the variables\n",
    "1. Variables does not start with numbers but can end with the number\n",
    "2. Variables are case sensitive, a2 and A2 are different variables\n",
    "3. Variables don't accept sybmols/special characters\n",
    "4. Variables don't accept reserved words or keywords\n",
    "\n",
    "**Variable==Indentifier==Object**"
   ]
  },
  {
   "cell_type": "code",
   "execution_count": 12,
   "id": "c54e303e-3156-4664-951a-718eda078f4e",
   "metadata": {},
   "outputs": [
    {
     "ename": "SyntaxError",
     "evalue": "invalid syntax (3096303344.py, line 7)",
     "output_type": "error",
     "traceback": [
      "  \u001b[36mCell\u001b[39m\u001b[36m \u001b[39m\u001b[32mIn[12]\u001b[39m\u001b[32m, line 7\u001b[39m\n\u001b[31m    \u001b[39m\u001b[31mif=39\u001b[39m\n      ^\n\u001b[31mSyntaxError\u001b[39m\u001b[31m:\u001b[39m invalid syntax\n"
     ]
    }
   ],
   "source": [
    "# v@=89\n",
    "# b&=3\n",
    "# b&\n",
    "#BUT\n",
    "# v_=10 Q=Why does this works?\n",
    "# v_\n",
    "# if=39 Syntax error"
   ]
  },
  {
   "cell_type": "code",
   "execution_count": 15,
   "id": "7572aed6-86b1-4325-a688-6c8bcc2fcbf6",
   "metadata": {},
   "outputs": [
    {
     "data": {
      "text/plain": [
       "['False',\n",
       " 'None',\n",
       " 'True',\n",
       " 'and',\n",
       " 'as',\n",
       " 'assert',\n",
       " 'async',\n",
       " 'await',\n",
       " 'break',\n",
       " 'class',\n",
       " 'continue',\n",
       " 'def',\n",
       " 'del',\n",
       " 'elif',\n",
       " 'else',\n",
       " 'except',\n",
       " 'finally',\n",
       " 'for',\n",
       " 'from',\n",
       " 'global',\n",
       " 'if',\n",
       " 'import',\n",
       " 'in',\n",
       " 'is',\n",
       " 'lambda',\n",
       " 'nonlocal',\n",
       " 'not',\n",
       " 'or',\n",
       " 'pass',\n",
       " 'raise',\n",
       " 'return',\n",
       " 'try',\n",
       " 'while',\n",
       " 'with',\n",
       " 'yield']"
      ]
     },
     "execution_count": 15,
     "metadata": {},
     "output_type": "execute_result"
    }
   ],
   "source": [
    "import keyword\n",
    "keyword.kwlist"
   ]
  },
  {
   "cell_type": "code",
   "execution_count": 16,
   "id": "aa0042f5-31ae-45aa-9bd8-884889920dac",
   "metadata": {},
   "outputs": [
    {
     "data": {
      "text/plain": [
       "35"
      ]
     },
     "execution_count": 16,
     "metadata": {},
     "output_type": "execute_result"
    }
   ],
   "source": [
    "len(keyword.kwlist)"
   ]
  },
  {
   "cell_type": "markdown",
   "id": "be797697-d0e0-4e4e-aa1e-8988b83a1292",
   "metadata": {},
   "source": [
    "Premitive and Non premitive data structure\n",
    "Non premivitve have more 2->Built in and user defined\n",
    "- in ML we have built in function==parameters\n",
    "- user defined==hyperparameter"
   ]
  },
  {
   "cell_type": "markdown",
   "id": "6d457762-b02e-4773-be40-8b58b623358d",
   "metadata": {},
   "source": [
    "$Datatypes$\n",
    "- Integer\n",
    "- Float\n",
    "- Bool\n",
    "- String\n",
    "- Complex"
   ]
  },
  {
   "cell_type": "code",
   "execution_count": 2,
   "id": "95d14a14-d93a-425e-aa10-6876ddefd8a3",
   "metadata": {},
   "outputs": [
    {
     "data": {
      "text/plain": [
       "'# This is not a comment really?'"
      ]
     },
     "execution_count": 2,
     "metadata": {},
     "output_type": "execute_result"
    }
   ],
   "source": [
    "text='# This is not a comment really?'\n",
    "text"
   ]
  },
  {
   "cell_type": "code",
   "execution_count": null,
   "id": "1726b50a-c2de-4f32-987a-93a148276130",
   "metadata": {},
   "outputs": [],
   "source": []
  }
 ],
 "metadata": {
  "kernelspec": {
   "display_name": "Python [conda env:base] *",
   "language": "python",
   "name": "conda-base-py"
  },
  "language_info": {
   "codemirror_mode": {
    "name": "ipython",
    "version": 3
   },
   "file_extension": ".py",
   "mimetype": "text/x-python",
   "name": "python",
   "nbconvert_exporter": "python",
   "pygments_lexer": "ipython3",
   "version": "3.12.7"
  }
 },
 "nbformat": 4,
 "nbformat_minor": 5
}
