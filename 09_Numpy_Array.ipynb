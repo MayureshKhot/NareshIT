{
 "cells": [
  {
   "cell_type": "markdown",
   "id": "ab4ce35b-02d3-46fc-892f-ff1a6363090e",
   "metadata": {},
   "source": [
    "# Numpy\n",
    "\n",
    "- Array is collection of similar dataypes\n",
    "- Numpy is a library that do operations on array, most importantly nd Array (n dimentional array)/Multi-dimensional Array.\n",
    "- All the unstrcutured data, such as image, video, audio, is converted to Array, and Numpy is a library that makes that process.\n",
    "- Using Numpy we can do:\n",
    "  - Arithmetic Operations\n",
    "  - Statistical Operations\n",
    "  - Bitwise Operations\n",
    "  - Copy and View Array\n",
    "  - Stacking\n",
    "  - Matrix Operations\n",
    "  - Linear Algebra\n",
    "  - Broadcasting\n",
    "  - Math Operations\n",
    "  - Searching, sorting\n",
    "- Indexing begin with 0 in Numpy as well.\n",
    "\n",
    "## Difference between List and Array\n",
    "1. List can store different (hetrogeneous) dataypes. Array can only sotre similar (Homogeneous) data.\n",
    "2. List takes less memory for large datasets, Array takes more memory (cos multi-dimensionality)\n",
    "3. List cannot perform vectorized operations, Array can.\n",
    "4. General purpose is collection, Array is used for scientific computing.\n",
    "\n",
    "## Functions in Numpy:\n",
    "1. arange()->\n",
    "   - aranges the array from starting point to ending point with step. One arg is compulsory.\n",
    "   - The first arg should always be less than the second arg; if vice versa, there won't be output.\n",
    "2. zeros()->\n",
    "   - Creates array with value zeros, why zeros? because every image is converted into 0s and 1s in future.\n",
    "   - By default, datatype of array elements is float, but we can use 'dtype=int' for converting it to int.\n",
    "   - Multidimentional arrays can be created using (3,3) this format, where 1st arg is always rows and 2nd is always columns.\n",
    "3. ones()->\n",
    "   - It's similar to zeros(), just with '1' values"
   ]
  },
  {
   "cell_type": "code",
   "execution_count": 1,
   "id": "2008cdfb-39e2-4a5a-9d2c-36e37f15e308",
   "metadata": {},
   "outputs": [],
   "source": [
    "import numpy as np"
   ]
  },
  {
   "cell_type": "code",
   "execution_count": 2,
   "id": "d134754d-65a6-49dc-9fea-64689aab74dc",
   "metadata": {},
   "outputs": [
    {
     "data": {
      "text/plain": [
       "'1.26.4'"
      ]
     },
     "execution_count": 2,
     "metadata": {},
     "output_type": "execute_result"
    }
   ],
   "source": [
    "np.__version__"
   ]
  },
  {
   "cell_type": "code",
   "execution_count": 3,
   "id": "303a49c0-1e2c-4faa-9139-374c764d2a42",
   "metadata": {},
   "outputs": [
    {
     "data": {
      "text/plain": [
       "[0, 1, 2, 3, 4, 5]"
      ]
     },
     "execution_count": 3,
     "metadata": {},
     "output_type": "execute_result"
    }
   ],
   "source": [
    "my_list = [0,1,2,3,4,5]\n",
    "my_list"
   ]
  },
  {
   "cell_type": "code",
   "execution_count": 4,
   "id": "267548df-88b0-4eff-b38b-e07d54809b7e",
   "metadata": {},
   "outputs": [
    {
     "data": {
      "text/plain": [
       "list"
      ]
     },
     "execution_count": 4,
     "metadata": {},
     "output_type": "execute_result"
    }
   ],
   "source": [
    "type(my_list)"
   ]
  },
  {
   "cell_type": "code",
   "execution_count": 5,
   "id": "ac741c71-a3c9-403e-a86e-b4557834ab0c",
   "metadata": {},
   "outputs": [
    {
     "data": {
      "text/plain": [
       "array([0, 1, 2, 3, 4, 5])"
      ]
     },
     "execution_count": 5,
     "metadata": {},
     "output_type": "execute_result"
    }
   ],
   "source": [
    "# convert list to array\n",
    "\n",
    "arr = np.array(my_list)\n",
    "arr"
   ]
  },
  {
   "cell_type": "code",
   "execution_count": 6,
   "id": "7f2e5eba-576b-4820-91e6-c8af063c8927",
   "metadata": {},
   "outputs": [
    {
     "data": {
      "text/plain": [
       "numpy.ndarray"
      ]
     },
     "execution_count": 6,
     "metadata": {},
     "output_type": "execute_result"
    }
   ],
   "source": [
    "type(arr)"
   ]
  },
  {
   "cell_type": "code",
   "execution_count": 13,
   "id": "7279350f-6677-40ba-ae69-993fa7069a3c",
   "metadata": {},
   "outputs": [
    {
     "data": {
      "text/plain": [
       "array([10, 15, 20, 25, 30, 35, 40, 45])"
      ]
     },
     "execution_count": 13,
     "metadata": {},
     "output_type": "execute_result"
    }
   ],
   "source": [
    "np.arange(10,50,5) # Only 3 arguments are allowed"
   ]
  },
  {
   "cell_type": "code",
   "execution_count": 15,
   "id": "b11ceffb-fb63-431e-980e-4069bf91a08a",
   "metadata": {},
   "outputs": [
    {
     "data": {
      "text/plain": [
       "array([0, 0, 0])"
      ]
     },
     "execution_count": 15,
     "metadata": {},
     "output_type": "execute_result"
    }
   ],
   "source": [
    "np.zeros(3, dtype=int)"
   ]
  },
  {
   "cell_type": "code",
   "execution_count": 16,
   "id": "2eae8c68-cdb9-4c35-821e-b79bb222ba79",
   "metadata": {},
   "outputs": [
    {
     "data": {
      "text/plain": [
       "array([[0., 0.],\n",
       "       [0., 0.]])"
      ]
     },
     "execution_count": 16,
     "metadata": {},
     "output_type": "execute_result"
    }
   ],
   "source": [
    "np.zeros((2,2)) # Means 2 rows and 2 columns==2d array"
   ]
  },
  {
   "cell_type": "code",
   "execution_count": 18,
   "id": "51bf70f9-dc23-4189-a5de-ae9dc93e143f",
   "metadata": {},
   "outputs": [
    {
     "data": {
      "text/plain": [
       "array([[0, 0, 0],\n",
       "       [0, 0, 0],\n",
       "       [0, 0, 0]])"
      ]
     },
     "execution_count": 18,
     "metadata": {},
     "output_type": "execute_result"
    }
   ],
   "source": [
    "np.zeros((3,3), dtype=int) # 1st arg always--row, 2nd arg always -- column."
   ]
  },
  {
   "cell_type": "code",
   "execution_count": 19,
   "id": "86b3c43f-0705-4a4a-ad18-f93f380347a7",
   "metadata": {},
   "outputs": [
    {
     "data": {
      "text/plain": [
       "array([[0, 0, 0, 0, 0, 0, 0, 0, 0],\n",
       "       [0, 0, 0, 0, 0, 0, 0, 0, 0],\n",
       "       [0, 0, 0, 0, 0, 0, 0, 0, 0],\n",
       "       [0, 0, 0, 0, 0, 0, 0, 0, 0],\n",
       "       [0, 0, 0, 0, 0, 0, 0, 0, 0]])"
      ]
     },
     "execution_count": 19,
     "metadata": {},
     "output_type": "execute_result"
    }
   ],
   "source": [
    "nd=np.zeros((5,9), dtype=int)\n",
    "nd"
   ]
  },
  {
   "cell_type": "code",
   "execution_count": 20,
   "id": "1bcb76a2-3eb0-4ac8-bc12-d44aad036a1e",
   "metadata": {},
   "outputs": [
    {
     "data": {
      "text/plain": [
       "array([1., 1., 1.])"
      ]
     },
     "execution_count": 20,
     "metadata": {},
     "output_type": "execute_result"
    }
   ],
   "source": [
    "np.ones(3)"
   ]
  },
  {
   "cell_type": "code",
   "execution_count": 24,
   "id": "212ae193-6a51-4561-ad90-89b4d195f1c1",
   "metadata": {},
   "outputs": [],
   "source": [
    "nd1=np.ones((10,10), dtype=int)"
   ]
  },
  {
   "cell_type": "code",
   "execution_count": 23,
   "id": "2b1a0938-b2c6-4143-81e5-2d965a76883a",
   "metadata": {},
   "outputs": [],
   "source": [
    "# np.three(3) # this is not possible, cos there's no such function"
   ]
  },
  {
   "cell_type": "code",
   "execution_count": 25,
   "id": "1ac21960-5071-4dd9-9436-8485162c0992",
   "metadata": {},
   "outputs": [
    {
     "data": {
      "text/plain": [
       "array([[1, 1, 1, 1, 1, 1, 1, 1, 1, 1],\n",
       "       [1, 1, 1, 1, 1, 1, 1, 1, 1, 1],\n",
       "       [1, 1, 1, 1, 1, 1, 1, 1, 1, 1],\n",
       "       [1, 1, 1, 1, 1, 1, 1, 1, 1, 1],\n",
       "       [1, 1, 1, 1, 1, 1, 1, 1, 1, 1],\n",
       "       [1, 1, 1, 1, 1, 1, 1, 1, 1, 1],\n",
       "       [1, 1, 1, 1, 1, 1, 1, 1, 1, 1],\n",
       "       [1, 1, 1, 1, 1, 1, 1, 1, 1, 1],\n",
       "       [1, 1, 1, 1, 1, 1, 1, 1, 1, 1],\n",
       "       [1, 1, 1, 1, 1, 1, 1, 1, 1, 1]])"
      ]
     },
     "execution_count": 25,
     "metadata": {},
     "output_type": "execute_result"
    }
   ],
   "source": [
    "nd1"
   ]
  },
  {
   "cell_type": "code",
   "execution_count": null,
   "id": "45673895-29f2-4dff-92c0-f455e85835d6",
   "metadata": {},
   "outputs": [],
   "source": []
  }
 ],
 "metadata": {
  "kernelspec": {
   "display_name": "Python [conda env:base] *",
   "language": "python",
   "name": "conda-base-py"
  },
  "language_info": {
   "codemirror_mode": {
    "name": "ipython",
    "version": 3
   },
   "file_extension": ".py",
   "mimetype": "text/x-python",
   "name": "python",
   "nbconvert_exporter": "python",
   "pygments_lexer": "ipython3",
   "version": "3.12.3"
  }
 },
 "nbformat": 4,
 "nbformat_minor": 5
}
