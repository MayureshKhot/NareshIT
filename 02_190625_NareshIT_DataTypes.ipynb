{
  "nbformat": 4,
  "nbformat_minor": 0,
  "metadata": {
    "colab": {
      "provenance": []
    },
    "kernelspec": {
      "name": "python3",
      "display_name": "Python 3"
    },
    "language_info": {
      "name": "python"
    }
  },
  "cells": [
    {
      "cell_type": "code",
      "execution_count": null,
      "metadata": {
        "colab": {
          "base_uri": "https://localhost:8080/"
        },
        "id": "GqAfschdhpWg",
        "outputId": "e00987f9-ea05-43b8-a0db-91274c9217a7"
      },
      "outputs": [
        {
          "output_type": "stream",
          "name": "stdout",
          "text": [
            "Hello world\n"
          ]
        }
      ],
      "source": [
        "print(\"Hello world\")"
      ]
    },
    {
      "cell_type": "code",
      "source": [
        "a=\"10\"\n",
        "b='20'\n",
        "a+b"
      ],
      "metadata": {
        "colab": {
          "base_uri": "https://localhost:8080/",
          "height": 36
        },
        "id": "ElYRS8ywh1jF",
        "outputId": "ef8b8e9a-2f38-44e3-d9bf-fb85d9b4d81e"
      },
      "execution_count": null,
      "outputs": [
        {
          "output_type": "execute_result",
          "data": {
            "text/plain": [
              "'1020'"
            ],
            "application/vnd.google.colaboratory.intrinsic+json": {
              "type": "string"
            }
          },
          "metadata": {},
          "execution_count": 4
        }
      ]
    },
    {
      "cell_type": "code",
      "source": [
        "#Format String- It's a function just like print(), it replaces {} with the respective variable values\n",
        "# It is useful for linear regressions\n",
        "num1=40\n",
        "num2=30\n",
        "add=num1+num2\n",
        "print(\"addition of {} and {} is {}\".format(num1,num2,add))"
      ],
      "metadata": {
        "colab": {
          "base_uri": "https://localhost:8080/"
        },
        "id": "WiAoUvBWlMZ8",
        "outputId": "cec3d87a-20ee-4aea-e125-8b1491d94045"
      },
      "execution_count": null,
      "outputs": [
        {
          "output_type": "stream",
          "name": "stdout",
          "text": [
            "addition of 40 and 30 is 70\n"
          ]
        }
      ]
    },
    {
      "cell_type": "code",
      "source": [
        "# Complex datatype-> Only in python\n",
        "# c = a + bj\n",
        "c=1+2j\n",
        "print(c)\n",
        "print(type(c))"
      ],
      "metadata": {
        "colab": {
          "base_uri": "https://localhost:8080/"
        },
        "id": "d7N1NyrXpEg2",
        "outputId": "6e668224-8eaf-4708-d6b3-891c88374de5"
      },
      "execution_count": null,
      "outputs": [
        {
          "output_type": "stream",
          "name": "stdout",
          "text": [
            "(1+2j)\n",
            "<class 'complex'>\n"
          ]
        }
      ]
    },
    {
      "cell_type": "code",
      "source": [
        "c.real"
      ],
      "metadata": {
        "colab": {
          "base_uri": "https://localhost:8080/"
        },
        "id": "vwM-FXY4qARb",
        "outputId": "749825e3-d9d4-4b5a-be87-f31848bde406"
      },
      "execution_count": null,
      "outputs": [
        {
          "output_type": "execute_result",
          "data": {
            "text/plain": [
              "1.0"
            ]
          },
          "metadata": {},
          "execution_count": 7
        }
      ]
    },
    {
      "cell_type": "code",
      "source": [
        "c.imag"
      ],
      "metadata": {
        "colab": {
          "base_uri": "https://localhost:8080/"
        },
        "id": "eApIdVMhqRJe",
        "outputId": "39bd624d-f7ed-4240-8cb1-1474237c2c60"
      },
      "execution_count": null,
      "outputs": [
        {
          "output_type": "execute_result",
          "data": {
            "text/plain": [
              "2.0"
            ]
          },
          "metadata": {},
          "execution_count": 8
        }
      ]
    },
    {
      "cell_type": "code",
      "source": [
        "# Why python is dynamic programming language?\n",
        "# In python, the compiler automatically understand the datatypes and with whome to add, not add, etc.\n",
        "# e.g a=5 here we're not specifying that a is an integer, but python can understand it automatically\n",
        "# It also move to inner loop/4 space indentations automatically when you click enter after a function():\n",
        "#"
      ],
      "metadata": {
        "id": "xqg6akAyqR5v"
      },
      "execution_count": null,
      "outputs": []
    },
    {
      "cell_type": "code",
      "source": [
        "true=1\n",
        "true"
      ],
      "metadata": {
        "colab": {
          "base_uri": "https://localhost:8080/"
        },
        "id": "s7dAkEGhrz4y",
        "outputId": "8653b180-2d0b-4b60-8f93-b472d04ad007"
      },
      "execution_count": null,
      "outputs": [
        {
          "output_type": "execute_result",
          "data": {
            "text/plain": [
              "1"
            ]
          },
          "metadata": {},
          "execution_count": 9
        }
      ]
    },
    {
      "cell_type": "code",
      "source": [],
      "metadata": {
        "id": "Kf6ZH6gqr1vi"
      },
      "execution_count": null,
      "outputs": []
    }
  ]
}