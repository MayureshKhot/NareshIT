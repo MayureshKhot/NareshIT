{
 "cells": [
  {
   "cell_type": "markdown",
   "id": "a5116df8-3d68-435e-bcb3-77344167b642",
   "metadata": {},
   "source": [
    "# List Membership"
   ]
  },
  {
   "cell_type": "code",
   "execution_count": 1,
   "id": "50965373-e5d2-4e42-8537-e97f23e3cc6b",
   "metadata": {},
   "outputs": [
    {
     "data": {
      "text/plain": [
       "[100, 10, 20, 30, 30, 20]"
      ]
     },
     "execution_count": 1,
     "metadata": {},
     "output_type": "execute_result"
    }
   ],
   "source": [
    "l=[100, 10, 20, 30, 30, 20]\n",
    "l"
   ]
  },
  {
   "cell_type": "code",
   "execution_count": 2,
   "id": "e7dfaddd-9cef-4f6f-a891-7d878b6476d3",
   "metadata": {},
   "outputs": [
    {
     "data": {
      "text/plain": [
       "True"
      ]
     },
     "execution_count": 2,
     "metadata": {},
     "output_type": "execute_result"
    }
   ],
   "source": [
    "100 in l"
   ]
  },
  {
   "cell_type": "code",
   "execution_count": 3,
   "id": "37dd47c5-7a3c-4511-9990-c9a78c907ea9",
   "metadata": {},
   "outputs": [
    {
     "data": {
      "text/plain": [
       "False"
      ]
     },
     "execution_count": 3,
     "metadata": {},
     "output_type": "execute_result"
    }
   ],
   "source": [
    "1000 in l"
   ]
  },
  {
   "cell_type": "markdown",
   "id": "358e2381-e674-4219-97c4-3f5fc7c8478e",
   "metadata": {},
   "source": [
    "# Enumerate\n",
    "**The enumerate object yields pairs containing a count (from start, which\n",
    "defaults to zero) and a value yielded by the iterable argument.**\n",
    "\n",
    "It combines the value from 0 even if they are not in your datasets."
   ]
  },
  {
   "cell_type": "code",
   "execution_count": 4,
   "id": "b8d621aa-bb7e-490c-ba34-d6521e2c798a",
   "metadata": {},
   "outputs": [
    {
     "name": "stdout",
     "output_type": "stream",
     "text": [
      "(0, 100)\n",
      "(1, 10)\n",
      "(2, 20)\n",
      "(3, 30)\n",
      "(4, 30)\n",
      "(5, 20)\n"
     ]
    }
   ],
   "source": [
    "for i in enumerate(l):\n",
    "    print(i)"
   ]
  },
  {
   "cell_type": "markdown",
   "id": "ccc2c3a4-9986-4365-a4b4-3441931d1627",
   "metadata": {},
   "source": [
    "# Extends\n",
    "\n",
    "Merges one list to another without changing original list"
   ]
  },
  {
   "cell_type": "code",
   "execution_count": 5,
   "id": "e13ab846-70e9-42b4-b785-bd2d6d620d1c",
   "metadata": {},
   "outputs": [],
   "source": [
    "l2=[9, 1+2j, 'string']\n",
    "l2.extend(l)"
   ]
  },
  {
   "cell_type": "code",
   "execution_count": 6,
   "id": "6a912cf6-9f8f-4747-a687-15040cf1bcb1",
   "metadata": {},
   "outputs": [
    {
     "data": {
      "text/plain": [
       "[9, (1+2j), 'string', 100, 10, 20, 30, 30, 20]"
      ]
     },
     "execution_count": 6,
     "metadata": {},
     "output_type": "execute_result"
    }
   ],
   "source": [
    "l2"
   ]
  },
  {
   "cell_type": "code",
   "execution_count": 7,
   "id": "d1955ebc-8d38-42a5-bc7a-e01b57d108f4",
   "metadata": {},
   "outputs": [
    {
     "data": {
      "text/plain": [
       "[100, 10, 20, 30, 30, 20]"
      ]
     },
     "execution_count": 7,
     "metadata": {},
     "output_type": "execute_result"
    }
   ],
   "source": [
    "l"
   ]
  },
  {
   "cell_type": "markdown",
   "id": "33981e1b-d511-4a95-9cb0-d0d9a02ba5ab",
   "metadata": {},
   "source": [
    "# Sort and REverse\n",
    "- Sort: elements in ascending order, but only similar datatypes, it won't work for a list with mixed datatypes.\n",
    "- Reverse: Elements in descending order, also support list with any/different dataypes."
   ]
  },
  {
   "cell_type": "code",
   "execution_count": 9,
   "id": "4b4739c1-8070-4994-90f9-a2116f17eeb5",
   "metadata": {},
   "outputs": [
    {
     "data": {
      "text/plain": [
       "[100, 30, 30, 20, 20, 10]"
      ]
     },
     "execution_count": 9,
     "metadata": {},
     "output_type": "execute_result"
    }
   ],
   "source": [
    "l.sort(reverse=True) #This is hyperparameter tunning. If used normal is parameter tunning.\n",
    "l"
   ]
  },
  {
   "cell_type": "code",
   "execution_count": 13,
   "id": "67e148d3-3831-4a72-bf5b-62e8bcbc5cb5",
   "metadata": {},
   "outputs": [
    {
     "data": {
      "text/plain": [
       "[100, 30, 30, 20, 20, 10]"
      ]
     },
     "execution_count": 13,
     "metadata": {},
     "output_type": "execute_result"
    }
   ],
   "source": [
    "l.reverse()\n",
    "l"
   ]
  },
  {
   "cell_type": "code",
   "execution_count": 14,
   "id": "d211a7ca-776b-4d4a-8aac-2302b75bc669",
   "metadata": {},
   "outputs": [
    {
     "ename": "TypeError",
     "evalue": "'<' not supported between instances of 'complex' and 'int'",
     "output_type": "error",
     "traceback": [
      "\u001b[1;31m---------------------------------------------------------------------------\u001b[0m",
      "\u001b[1;31mTypeError\u001b[0m                                 Traceback (most recent call last)",
      "Cell \u001b[1;32mIn[14], line 1\u001b[0m\n\u001b[1;32m----> 1\u001b[0m l2\u001b[38;5;241m.\u001b[39msort()\n\u001b[0;32m      2\u001b[0m l2\n",
      "\u001b[1;31mTypeError\u001b[0m: '<' not supported between instances of 'complex' and 'int'"
     ]
    }
   ],
   "source": [
    "l2.sort()# Sort is not applied in list with different datatypes\n",
    "l2"
   ]
  },
  {
   "cell_type": "code",
   "execution_count": 15,
   "id": "108b45bf-3131-4bc1-802d-b66238e53584",
   "metadata": {},
   "outputs": [
    {
     "data": {
      "text/plain": [
       "[20, 30, 30, 20, 10, 100, 'string', (1+2j), 9]"
      ]
     },
     "execution_count": 15,
     "metadata": {},
     "output_type": "execute_result"
    }
   ],
   "source": [
    "l2.reverse()#Therefore reverse is used.\n",
    "l2"
   ]
  },
  {
   "cell_type": "markdown",
   "id": "b2654780-22db-40d7-bfcf-794580e5ac15",
   "metadata": {},
   "source": [
    "# All and Any\n",
    "- all()\n",
    "- any()"
   ]
  },
  {
   "cell_type": "markdown",
   "id": "12611f4f-5533-461a-854b-cadaf855bbbf",
   "metadata": {},
   "source": [
    "# List Data Structure is Completed"
   ]
  },
  {
   "cell_type": "markdown",
   "id": "463e9fbe-211b-41d2-a3b8-478b1dc5c55d",
   "metadata": {},
   "source": [
    "# Tuple\n",
    "- defined with ()\n",
    "- Tuple is immutable--> useful for personal and credentials type of data\n",
    "- It's elements are still accessible using square bracs [].\n",
    "- t2=t1*3> doing this will repeat the t1 as it is 3 times, it won't multipy the values within the tuple."
   ]
  },
  {
   "cell_type": "code",
   "execution_count": 17,
   "id": "14de930d-7b3e-4386-9101-babbc9ec5e25",
   "metadata": {},
   "outputs": [
    {
     "data": {
      "text/plain": [
       "tuple"
      ]
     },
     "execution_count": 17,
     "metadata": {},
     "output_type": "execute_result"
    }
   ],
   "source": [
    "t = ()\n",
    "type(t)"
   ]
  },
  {
   "cell_type": "code",
   "execution_count": 21,
   "id": "9f4be091-3946-4993-bcaf-be24310e3dc3",
   "metadata": {},
   "outputs": [
    {
     "ename": "TypeError",
     "evalue": "tuple.count() takes exactly one argument (0 given)",
     "output_type": "error",
     "traceback": [
      "\u001b[1;31m---------------------------------------------------------------------------\u001b[0m",
      "\u001b[1;31mTypeError\u001b[0m                                 Traceback (most recent call last)",
      "Cell \u001b[1;32mIn[21], line 2\u001b[0m\n\u001b[0;32m      1\u001b[0m t1\u001b[38;5;241m=\u001b[39m(\u001b[38;5;241m10\u001b[39m, \u001b[38;5;241m20\u001b[39m, \u001b[38;5;241m30\u001b[39m)\n\u001b[1;32m----> 2\u001b[0m t1\u001b[38;5;241m.\u001b[39mcount()\n",
      "\u001b[1;31mTypeError\u001b[0m: tuple.count() takes exactly one argument (0 given)"
     ]
    }
   ],
   "source": [
    "t1=(10, 20, 30)\n",
    "t1.count()"
   ]
  },
  {
   "cell_type": "code",
   "execution_count": 22,
   "id": "9b29f3e1-1394-4bf7-bca6-6ff040aec624",
   "metadata": {},
   "outputs": [
    {
     "data": {
      "text/plain": [
       "('name', 3993)"
      ]
     },
     "execution_count": 22,
     "metadata": {},
     "output_type": "execute_result"
    }
   ],
   "source": [
    "sbi=('name', 3993)\n",
    "sbi"
   ]
  },
  {
   "cell_type": "code",
   "execution_count": 24,
   "id": "5bc78e4a-4241-453c-942e-9edcadde3d83",
   "metadata": {},
   "outputs": [
    {
     "data": {
      "text/plain": [
       "3993"
      ]
     },
     "execution_count": 24,
     "metadata": {},
     "output_type": "execute_result"
    }
   ],
   "source": [
    "sbi[1]"
   ]
  },
  {
   "cell_type": "code",
   "execution_count": 26,
   "id": "cc649a2c-6095-4af5-b0ac-d9bbef3b04b1",
   "metadata": {},
   "outputs": [
    {
     "data": {
      "text/plain": [
       "(10, 20, 30, 10, 20, 30, 10, 20, 30)"
      ]
     },
     "execution_count": 26,
     "metadata": {},
     "output_type": "execute_result"
    }
   ],
   "source": [
    "t2=t1*3\n",
    "t2"
   ]
  },
  {
   "cell_type": "code",
   "execution_count": 27,
   "id": "8073eecf-1e06-4d9b-812c-f8cdb3b65504",
   "metadata": {},
   "outputs": [],
   "source": [
    "del t2 # to delete the tuple"
   ]
  },
  {
   "cell_type": "code",
   "execution_count": 28,
   "id": "fabaef4c-de6a-4465-ad9a-ba1ff28dd0cc",
   "metadata": {},
   "outputs": [
    {
     "ename": "NameError",
     "evalue": "name 't2' is not defined",
     "output_type": "error",
     "traceback": [
      "\u001b[1;31m---------------------------------------------------------------------------\u001b[0m",
      "\u001b[1;31mNameError\u001b[0m                                 Traceback (most recent call last)",
      "Cell \u001b[1;32mIn[28], line 1\u001b[0m\n\u001b[1;32m----> 1\u001b[0m t2\n",
      "\u001b[1;31mNameError\u001b[0m: name 't2' is not defined"
     ]
    }
   ],
   "source": [
    "t2"
   ]
  },
  {
   "cell_type": "code",
   "execution_count": null,
   "id": "4440c623-3877-4caa-9c24-11ef48982434",
   "metadata": {},
   "outputs": [],
   "source": []
  }
 ],
 "metadata": {
  "kernelspec": {
   "display_name": "Python [conda env:base] *",
   "language": "python",
   "name": "conda-base-py"
  },
  "language_info": {
   "codemirror_mode": {
    "name": "ipython",
    "version": 3
   },
   "file_extension": ".py",
   "mimetype": "text/x-python",
   "name": "python",
   "nbconvert_exporter": "python",
   "pygments_lexer": "ipython3",
   "version": "3.12.7"
  }
 },
 "nbformat": 4,
 "nbformat_minor": 5
}
