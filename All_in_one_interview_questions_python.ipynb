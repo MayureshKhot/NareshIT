{
 "cells": [
  {
   "cell_type": "markdown",
   "id": "b0601d8c-bcb8-4ba2-b2bf-0d79a6e537ab",
   "metadata": {},
   "source": [
    "# Python Interview Questions - Topic Wise"
   ]
  },
  {
   "cell_type": "markdown",
   "id": "f0ff2053-fd49-4e27-aa95-846dd2cef46f",
   "metadata": {},
   "source": [
    "### 1. Questions on Input() Function"
   ]
  },
  {
   "cell_type": "markdown",
   "id": "168fc73e-09ae-4014-9eac-65ccffb8d03f",
   "metadata": {},
   "source": [
    "1. What is the input() function in Python used for?\n",
    "- In python, Input function is used for accepting the input from the user from terminal"
   ]
  },
  {
   "cell_type": "code",
   "execution_count": 2,
   "id": "f35040b0-c6e1-4368-858c-58af425c1883",
   "metadata": {},
   "outputs": [
    {
     "name": "stdin",
     "output_type": "stream",
     "text": [
      "Enter the value:  5\n"
     ]
    },
    {
     "data": {
      "text/plain": [
       "5"
      ]
     },
     "execution_count": 2,
     "metadata": {},
     "output_type": "execute_result"
    }
   ],
   "source": [
    "# 2. How to accept int value in input()?\n",
    "\n",
    "num = int(input(\"Enter the value: \"))\n",
    "num"
   ]
  },
  {
   "cell_type": "code",
   "execution_count": 3,
   "id": "3d47c63c-b396-4aaf-a8ef-ab92ae994512",
   "metadata": {},
   "outputs": [
    {
     "name": "stdin",
     "output_type": "stream",
     "text": [
      "Enter the float value:  5.6\n"
     ]
    },
    {
     "data": {
      "text/plain": [
       "5.6"
      ]
     },
     "execution_count": 3,
     "metadata": {},
     "output_type": "execute_result"
    }
   ],
   "source": [
    "# 3. Float input()\n",
    "float_num = float(input(\"Enter the float value: \"))\n",
    "float_num"
   ]
  },
  {
   "cell_type": "code",
   "execution_count": 6,
   "id": "f390c521-6020-41de-8f15-9c6bd547dc5e",
   "metadata": {},
   "outputs": [
    {
     "name": "stdin",
     "output_type": "stream",
     "text": [
      "Enter the value Hi this is Mayuresh\n"
     ]
    },
    {
     "data": {
      "text/plain": [
       "['Hi', 'this', 'is', 'Mayuresh']"
      ]
     },
     "execution_count": 6,
     "metadata": {},
     "output_type": "execute_result"
    }
   ],
   "source": [
    "# 4. Space separated values as input?\n",
    "val = input(\"Enter the value\").split()\n",
    "val"
   ]
  },
  {
   "cell_type": "code",
   "execution_count": 10,
   "id": "c257fa57-466c-4548-af7f-dc7cbe889f7d",
   "metadata": {},
   "outputs": [
    {
     "name": "stdin",
     "output_type": "stream",
     "text": [
      "Enter the number:  0\n"
     ]
    },
    {
     "name": "stdout",
     "output_type": "stream",
     "text": [
      "0  is zero\n"
     ]
    }
   ],
   "source": [
    "# 5. Check if the number is positive negative or zero\n",
    "num = int(input(\"Enter the number: \"))\n",
    "\n",
    "if num>0:\n",
    "    print(num, \" is a positive\")\n",
    "\n",
    "elif num<0:\n",
    "    print(num, \" is a negative\")\n",
    "\n",
    "else:\n",
    "    print(num, \" is zero\")"
   ]
  },
  {
   "cell_type": "code",
   "execution_count": 16,
   "id": "b06eae56-2c58-4780-8860-fa0a5a526b21",
   "metadata": {},
   "outputs": [
    {
     "name": "stdin",
     "output_type": "stream",
     "text": [
      "Enter the number:  3\n",
      "Enter the number:  1\n",
      "Enter the number:  5\n",
      "Enter the number:  4\n",
      "Enter the number:  56\n"
     ]
    },
    {
     "data": {
      "text/plain": [
       "[3, 1, 5, 4, 56]"
      ]
     },
     "execution_count": 16,
     "metadata": {},
     "output_type": "execute_result"
    }
   ],
   "source": [
    "# 6. How to convert user input into a list of integers?\n",
    "\n",
    "list1=[]\n",
    "for i in range(1,6):\n",
    "    num=int(input(\"Enter the number: \"))\n",
    "    list1.append(num)\n",
    "list1"
   ]
  },
  {
   "cell_type": "code",
   "execution_count": 17,
   "id": "64cb63c1-5478-43c2-8709-c59156e262a2",
   "metadata": {},
   "outputs": [
    {
     "name": "stdin",
     "output_type": "stream",
     "text": [
      "Enter something:  hi bro\n"
     ]
    },
    {
     "data": {
      "text/plain": [
       "'HI BRO'"
      ]
     },
     "execution_count": 17,
     "metadata": {},
     "output_type": "execute_result"
    }
   ],
   "source": [
    "# 7. How do you accept a string input? and print it in uppercase?\n",
    "# input() function by default takes the input in string format, so here we don't need to conver it.\n",
    "\n",
    "str = input(\"Enter something: \").upper()\n",
    "str"
   ]
  },
  {
   "cell_type": "code",
   "execution_count": 24,
   "id": "db92faf9-6647-4501-9d19-8c4c3425e3e4",
   "metadata": {},
   "outputs": [
    {
     "name": "stdin",
     "output_type": "stream",
     "text": [
      "write a word and I'll give you the number of vowels in it:  aaaaa\n"
     ]
    },
    {
     "data": {
      "text/plain": [
       "5"
      ]
     },
     "execution_count": 24,
     "metadata": {},
     "output_type": "execute_result"
    }
   ],
   "source": [
    "# 8. Write a python program that accepts a string and prints the number of vowels in it.\n",
    "\n",
    "str = input(\"write a word and I'll give you the number of vowels in it: \").lower()\n",
    "vowels=0\n",
    "\n",
    "for i in str:\n",
    "    if i == 'a':\n",
    "        vowels+=1\n",
    "    elif i =='e':\n",
    "        vowels+=1\n",
    "    elif i == 'i':\n",
    "        vowels+=1\n",
    "    elif i == 'o':\n",
    "        vowels+=1\n",
    "    elif i == 'u':\n",
    "        vowels+=1\n",
    "if vowels==0:\n",
    "    print(\"no vowels\")\n",
    "vowels"
   ]
  },
  {
   "cell_type": "code",
   "execution_count": 32,
   "id": "463ee162-bd48-4dec-939e-7598057d0b9f",
   "metadata": {},
   "outputs": [
    {
     "name": "stdin",
     "output_type": "stream",
     "text": [
      "Enter a number:  54\n"
     ]
    },
    {
     "name": "stdout",
     "output_type": "stream",
     "text": [
      "54  is an even number\n"
     ]
    }
   ],
   "source": [
    "# 9. Write a program that takes a number as input and checks if it is even or odd\n",
    "\n",
    "num = int(input(\"Enter a number: \"))\n",
    "\n",
    "if num % 2 == 0:\n",
    "    print(num, \" is an even number\")\n",
    "else:\n",
    "    print(num, \" is an odd numner\")"
   ]
  },
  {
   "cell_type": "code",
   "execution_count": 49,
   "id": "542621fb-c2c2-4b8b-bc03-2e6f60f3a9df",
   "metadata": {},
   "outputs": [
    {
     "name": "stdin",
     "output_type": "stream",
     "text": [
      "Enter a word:  yes\n"
     ]
    },
    {
     "name": "stdout",
     "output_type": "stream",
     "text": [
      "yes is not a palindrome\n"
     ]
    }
   ],
   "source": [
    "# 10. How would you check if a string a palindrome using input()?\n",
    "# Palindrome means same if you read from front or from back\n",
    "\n",
    "s = input(\"Enter a word: \")\n",
    "rev_s = ''\n",
    "for i in range(len(s)-1, -1, -1):  # loop from last index to 0\n",
    "    rev_s += s[i]\n",
    "\n",
    "if s == rev_s:\n",
    "    print(s, \"is a palindrome\")\n",
    "else:\n",
    "    print(s, \"is not a palindrome\")\n"
   ]
  },
  {
   "cell_type": "code",
   "execution_count": 51,
   "id": "c23f4652-ea84-44ec-b57f-91cdd3784b3a",
   "metadata": {},
   "outputs": [
    {
     "name": "stdin",
     "output_type": "stream",
     "text": [
      "Enter a numeber:  4\n"
     ]
    },
    {
     "name": "stdout",
     "output_type": "stream",
     "text": [
      "16\n"
     ]
    }
   ],
   "source": [
    "# 11. Write a program that takes a numner as input and pritns its squares\n",
    "\n",
    "num=int(input(\"Enter a numeber: \"))\n",
    "sqr=num*num\n",
    "print(sqr)"
   ]
  },
  {
   "cell_type": "code",
   "execution_count": 56,
   "id": "5b0dd1f7-370a-4319-bd4d-d52bb5d7a0a3",
   "metadata": {},
   "outputs": [
    {
     "name": "stdin",
     "output_type": "stream",
     "text": [
      "Enter a number:  17\n"
     ]
    },
    {
     "name": "stdout",
     "output_type": "stream",
     "text": [
      "17  is not divisible by 3\n"
     ]
    }
   ],
   "source": [
    "# 12. Write a program that asks for a number and prints whether it is divisible by 3\n",
    "\n",
    "num=int(input(\"Enter a number: \"))\n",
    "\n",
    "if num % 3 == 0:\n",
    "    print(num, \" is divisible by 3\")\n",
    "\n",
    "else:\n",
    "    print(num, \" is not divisible by 3\")\n",
    "    "
   ]
  },
  {
   "cell_type": "code",
   "execution_count": 67,
   "id": "26547721-e0ce-4d2e-bd22-1d19121f7840",
   "metadata": {},
   "outputs": [
    {
     "name": "stdin",
     "output_type": "stream",
     "text": [
      "Enter a number:  42\n"
     ]
    },
    {
     "name": "stdout",
     "output_type": "stream",
     "text": [
      "42  is divisible by 3 and 7\n"
     ]
    }
   ],
   "source": [
    "# 13. How would you heck if a numbner is divisible by both 3 and 7?\n",
    "\n",
    "num=int(input(\"Enter a number: \"))\n",
    "\n",
    "if num % 3 == 0 and num % 7 == 0:\n",
    "    print(num, \" is divisible by 3 and 7\")\n",
    "\n",
    "else:\n",
    "    print(num, \" is not divisible by either 3 or 7\")"
   ]
  },
  {
   "cell_type": "code",
   "execution_count": 69,
   "id": "4e289d45-b42c-414a-9c7d-f5fe1b26c7d4",
   "metadata": {},
   "outputs": [
    {
     "name": "stdin",
     "output_type": "stream",
     "text": [
      "Enter comma-separated values:  a,s,d,f,g,g\n"
     ]
    },
    {
     "data": {
      "text/plain": [
       "[['a', 's', 'd', 'f', 'g', 'g']]"
      ]
     },
     "execution_count": 69,
     "metadata": {},
     "output_type": "execute_result"
    }
   ],
   "source": [
    "# 14. How do you accept a list of comma-separated values as input?\n",
    "\n",
    "list=[]\n",
    "s = input(\"Enter comma-separated values: \").split(',')\n",
    "list.append(s)\n",
    "list"
   ]
  },
  {
   "cell_type": "code",
   "execution_count": 78,
   "id": "8af20337-6d6e-49a6-83f4-a59458749326",
   "metadata": {},
   "outputs": [
    {
     "name": "stdin",
     "output_type": "stream",
     "text": [
      "Enter the num:  10010\n"
     ]
    },
    {
     "name": "stdout",
     "output_type": "stream",
     "text": [
      "10010  is not a prime number\n"
     ]
    }
   ],
   "source": [
    "# 15. Write a program that takes 2 nums as input and prints their product\n",
    "# 16. Write a program that takes checks if the input number is a prime number.\n",
    "\n",
    "num = int(input(\"Enter the num: \"))\n",
    "count=0\n",
    "\n",
    "for i in range(1, num+1):\n",
    "    if num % i == 0:\n",
    "        count+=1\n",
    "\n",
    "if count>2:\n",
    "    print(num, \" is not a prime number\")\n",
    "\n",
    "else:\n",
    "    print(num, \" is a prime number\")"
   ]
  },
  {
   "cell_type": "code",
   "execution_count": 19,
   "id": "7702e91d-cbc1-4356-bf83-9c8a8dacc2bb",
   "metadata": {},
   "outputs": [
    {
     "name": "stdin",
     "output_type": "stream",
     "text": [
      "Enter 't' for true and 'f' for false:  f\n"
     ]
    },
    {
     "name": "stdout",
     "output_type": "stream",
     "text": [
      "False\n"
     ]
    },
    {
     "data": {
      "text/plain": [
       "'f'"
      ]
     },
     "execution_count": 19,
     "metadata": {},
     "output_type": "execute_result"
    }
   ],
   "source": [
    "#17. How can you accept a boolean value (True/False) from the user?\n",
    "inp = input(\"Enter 't' for true and 'f' for false: \").lower()\n",
    "\n",
    "if inp == 't':\n",
    "    print(True)\n",
    "else:\n",
    "    print(False)\n",
    "\n",
    "inp"
   ]
  },
  {
   "cell_type": "code",
   "execution_count": 26,
   "id": "f7939479-275b-40cd-8121-76c352822750",
   "metadata": {},
   "outputs": [
    {
     "name": "stdin",
     "output_type": "stream",
     "text": [
      "Enter the string, I'll reverse it:  Stringg\n"
     ]
    },
    {
     "data": {
      "text/plain": [
       "'ggnirtS'"
      ]
     },
     "execution_count": 26,
     "metadata": {},
     "output_type": "execute_result"
    }
   ],
   "source": [
    "# 18. Write a program that accepts a string and prints the reverse of that string.\n",
    "\n",
    "string = input(\"Enter the string, I'll reverse it: \")\n",
    "rev=string[::-1]\n",
    "rev\n",
    "\n",
    "#Alternate way\n",
    "# string = input(\"Enter the string, I'll reverse it: \")\n",
    "# for i in range(len(string)-1, -1, -1):\n",
    "#     print(string[i], end='')"
   ]
  },
  {
   "cell_type": "code",
   "execution_count": 33,
   "id": "35b9c9f5-b4a8-430c-bfc9-4acf60758b74",
   "metadata": {},
   "outputs": [
    {
     "name": "stdin",
     "output_type": "stream",
     "text": [
      "Enter the number you want factorial for:  5\n"
     ]
    },
    {
     "data": {
      "text/plain": [
       "120"
      ]
     },
     "execution_count": 33,
     "metadata": {},
     "output_type": "execute_result"
    }
   ],
   "source": [
    "# 19. is easy\n",
    "# 20. Write a program to calculate the factorial of a number using input().\n",
    "\n",
    "num = int(input(\"Enter the number you want factorial for: \"))\n",
    "fact=1\n",
    "\n",
    "for i in range(1, num+1):\n",
    "    fact=fact*i\n",
    "\n",
    "fact\n",
    "\n",
    "# 21. is easy\n",
    "# 22. is easy\n",
    "# 23. is easy\n"
   ]
  },
  {
   "cell_type": "code",
   "execution_count": null,
   "id": "72565c8d-86c9-44ee-a81a-a6aa3f158f83",
   "metadata": {},
   "outputs": [],
   "source": [
    "# 24. How can you remove leading and trailing spaces from a string input?\n",
    "\n",
    "# 25. is easy\n",
    "# 26. is easy\n"
   ]
  },
  {
   "cell_type": "code",
   "execution_count": null,
   "id": "1c045eb0-71bd-4343-aeda-03f45a5d0ab0",
   "metadata": {},
   "outputs": [],
   "source": []
  },
  {
   "cell_type": "code",
   "execution_count": null,
   "id": "3d5ba94d-c1cb-4e7e-87a7-86cf4e6fb327",
   "metadata": {},
   "outputs": [],
   "source": []
  },
  {
   "cell_type": "code",
   "execution_count": null,
   "id": "a6106b4a-3ed1-43bf-a69b-53bfcb603b4f",
   "metadata": {},
   "outputs": [],
   "source": []
  },
  {
   "cell_type": "code",
   "execution_count": null,
   "id": "0d72e8cf-1e41-4e4f-86c9-92a3b8f3c41d",
   "metadata": {},
   "outputs": [],
   "source": []
  },
  {
   "cell_type": "code",
   "execution_count": null,
   "id": "f02b6a1e-fe5f-400a-8dbe-cf26de2179e4",
   "metadata": {},
   "outputs": [],
   "source": []
  },
  {
   "cell_type": "code",
   "execution_count": null,
   "id": "a32ce59b-c8bb-44b0-ad95-c773ad28db3a",
   "metadata": {},
   "outputs": [],
   "source": []
  },
  {
   "cell_type": "code",
   "execution_count": null,
   "id": "15323dd6-2123-49f5-bf10-e751f659a07c",
   "metadata": {},
   "outputs": [],
   "source": []
  },
  {
   "cell_type": "code",
   "execution_count": null,
   "id": "5f2f3467-8def-4c14-b976-8b672ca854b9",
   "metadata": {},
   "outputs": [],
   "source": []
  },
  {
   "cell_type": "code",
   "execution_count": null,
   "id": "aabb9e46-ad1f-4e8b-acbf-cff5498d1492",
   "metadata": {},
   "outputs": [],
   "source": []
  },
  {
   "cell_type": "markdown",
   "id": "b8ad9227-1f78-4291-bedf-2efb8c2ce6b7",
   "metadata": {},
   "source": [
    "## Questions on Set, Tuple, Dict and List\n",
    "\n",
    "**Set**\n",
    "1. Explain how sets handle duplicate values in Python. What will happen if you add a duplicate value to a set, and why?\n",
    "   - Set does not allow duplicate values, but it does not throws error, instead it only keeps one value in a set.\n",
    "   - Improved: Sets do not allow duplicate values. When you add a duplicate to a set, it silently ignores it without raising an error, because sets are implemented as hash tables that only store unique hashable elements.\n",
    "\n",
    "\n",
    "\n",
    "2. Given two sets, how can you find:\n",
    "\n",
    "(a) their intersection\n",
    "\n",
    "(b) their symmetric difference\n",
    "\n",
    "(c) check if one set is a subset of another?\n",
    "(Write code snippets for each)\n"
   ]
  },
  {
   "cell_type": "code",
   "execution_count": 12,
   "id": "d2b18981-1783-44c8-a0ca-a6b36dded159",
   "metadata": {},
   "outputs": [
    {
     "data": {
      "text/plain": [
       "{2, 3}"
      ]
     },
     "execution_count": 12,
     "metadata": {},
     "output_type": "execute_result"
    }
   ],
   "source": [
    "a = {1,2,3,2,14,10, 11, (2,3)}\n",
    "b = {2,3,4}\n",
    "a & b"
   ]
  },
  {
   "cell_type": "code",
   "execution_count": 2,
   "id": "4e80e118-762f-45a3-944d-c59f7b01c653",
   "metadata": {},
   "outputs": [
    {
     "data": {
      "text/plain": [
       "{1, 4}"
      ]
     },
     "execution_count": 2,
     "metadata": {},
     "output_type": "execute_result"
    }
   ],
   "source": [
    "a ^ b"
   ]
  },
  {
   "cell_type": "code",
   "execution_count": 4,
   "id": "0cccd73e-dea3-4987-ad28-dd5c571d8358",
   "metadata": {},
   "outputs": [
    {
     "data": {
      "text/plain": [
       "False"
      ]
     },
     "execution_count": 4,
     "metadata": {},
     "output_type": "execute_result"
    }
   ],
   "source": [
    "b.issubset(a)"
   ]
  },
  {
   "cell_type": "markdown",
   "id": "610b3d2f-051d-4d4c-95f4-1992bd5d05e5",
   "metadata": {},
   "source": [
    "3. Why are sets considered unordered? How does this affect iteration and indexing operations on a set?\n",
    "   - Sets are considered unrodered because there is no index in set. In set indexes are stored in ascending order if they're of similar datatypes.\n",
    "   - If not, they are stored randomly, you can iterate over the set, if you want to numerate it, you can use enumerate() function.\n",
    "   - Set does not support indexing, if you try doing this: a[1], it throws typeerror\n",
    "   - Improved answer: Sets are unordered because they use hash tables internally, which do not maintain the insertion order prior to Python 3.7, and even now sets do not guarantee order as lists do.\n",
    "\n",
    "5. If you attempt to add a mutable object (like a list) to a set, what will happen and why?\n",
    "   - Wrong: It throws an error, that set does not support list. Why? because list has indexes, and set does not support indexes.\n",
    "   - Correct: Adding a mutable object like a list to a set raises a TypeError because lists are unhashable types. Sets use hashing to ensure uniqueness and fast lookups, and mutable objects like lists can change, making their hash unreliable.\n",
    "\n",
    "6. How do sets improve lookup performance compared to lists, and what underlying data structure enables this?\n",
    "   - Sets are implemented using hash tables. This allows average time complexity for lookup operations (in) to be O(1), while lists require O(n) time because they perform a linear search."
   ]
  },
  {
   "cell_type": "code",
   "execution_count": 16,
   "id": "04f5bcae-6ecf-447a-b2e6-2097b8f496c7",
   "metadata": {},
   "outputs": [
    {
     "name": "stdout",
     "output_type": "stream",
     "text": [
      "(2, 3)\n",
      "1\n",
      "2\n",
      "3\n",
      "10\n",
      "11\n",
      "14\n"
     ]
    }
   ],
   "source": [
    "# 3rd\n",
    "for i in a:\n",
    "    print(i)\n",
    "\n",
    "l=[1,2,3,4,5,6,7]\n",
    "# 4th\n"
   ]
  },
  {
   "cell_type": "code",
   "execution_count": 17,
   "id": "8f903026-f7e2-4a19-9597-891e538d67af",
   "metadata": {},
   "outputs": [
    {
     "name": "stdout",
     "output_type": "stream",
     "text": [
      "{'a': 1, 'b': 2, 'c': 5}\n"
     ]
    }
   ],
   "source": [
    "my_dict = {'a':1, 'b':2}\n",
    "my_dict['c'] = my_dict.get('d', 3) + 2\n",
    "print(my_dict)\n"
   ]
  },
  {
   "cell_type": "code",
   "execution_count": null,
   "id": "3f19c302-e318-4e2d-837e-b4f9e56b0774",
   "metadata": {},
   "outputs": [],
   "source": []
  }
 ],
 "metadata": {
  "kernelspec": {
   "display_name": "Python [conda env:base] *",
   "language": "python",
   "name": "conda-base-py"
  },
  "language_info": {
   "codemirror_mode": {
    "name": "ipython",
    "version": 3
   },
   "file_extension": ".py",
   "mimetype": "text/x-python",
   "name": "python",
   "nbconvert_exporter": "python",
   "pygments_lexer": "ipython3",
   "version": "3.12.3"
  }
 },
 "nbformat": 4,
 "nbformat_minor": 5
}
