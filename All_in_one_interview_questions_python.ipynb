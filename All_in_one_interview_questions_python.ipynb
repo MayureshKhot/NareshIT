{
 "cells": [
  {
   "cell_type": "markdown",
   "id": "b0601d8c-bcb8-4ba2-b2bf-0d79a6e537ab",
   "metadata": {},
   "source": [
    "# Python Interview Questions - Topic Wise"
   ]
  },
  {
   "cell_type": "markdown",
   "id": "f0ff2053-fd49-4e27-aa95-846dd2cef46f",
   "metadata": {},
   "source": [
    "### Data Types\n"
   ]
  }
 ],
 "metadata": {
  "kernelspec": {
   "display_name": "Python [conda env:base] *",
   "language": "python",
   "name": "conda-base-py"
  },
  "language_info": {
   "codemirror_mode": {
    "name": "ipython",
    "version": 3
   },
   "file_extension": ".py",
   "mimetype": "text/x-python",
   "name": "python",
   "nbconvert_exporter": "python",
   "pygments_lexer": "ipython3",
   "version": "3.12.7"
  }
 },
 "nbformat": 4,
 "nbformat_minor": 5
}
