{
 "cells": [
  {
   "cell_type": "markdown",
   "id": "d12e49b8-90b6-4631-b8fa-85a8e8ff8595",
   "metadata": {},
   "source": [
    "# Notes-What I know.\n",
    "\n",
    "### Set:\n",
    "- Set is a collection of datatypes used to perform various operations.\n",
    "- Set is ordered if similar datatypes, else it's unordered (Wrong)\n",
    "- Sets are unordered collections in Python regardless of datatype similarity. ( in theory, otherwise it's ordered)\n",
    "- Set does not have indexes\n",
    "- Set does not allow duplicates\n",
    "- Set itself is mutable (like you can add or remove the values in set, but the values in set are immutable, like once you define a value, it won't change.\n",
    "- Methods in set:\n",
    "  1. add() -> this method adds elements in set, and because there's no indexing in set, the value is added randomly.\n",
    "  2. remove() -> This method removes elements by it's value if value is not there in the set, it throws the error\n",
    "  3. discard() -> this removes the element but not throws an error\n",
    "  4. pop() -> Removes the element (not last, cos no index is there) and return the element removed.\n",
    "  5. clear() -> clears the set, obviously\n",
    "  6. update() -> updates the list with multiple elements (take iterable as input)\n",
    "\n",
    "### Dict:\n",
    "- Dictionary is a collection of datatypes that collects data in key-value format.\n",
    "- In dict, key is immutable, and values are mutable.\n",
    "- Dict id defined by either {} or dict1=dict()\n",
    "- Dict have indexes (Wrong) It's indexes are values only.\n",
    "- Dict allows duplicates of values but duplicates of keys is not allowed\n",
    "- Dict allows mixed dataset in both keys and values.\n",
    "- Methods in Dict:\n",
    "  1. get(key) -> returns a specific key\n",
    "  2. keys() -> returns all the keys in the dict\n",
    "  3. values() -> returns all the values in the dict\n",
    "  4. items() -> returns key-value pair as tuple (Why)?\n",
    "  5. update(other_dict) -> updates the current dict with other dict, like adds elements from other dict\n",
    "  6. pop(key) -> removes the element and returns the removed element.\n",
    "  7. popitem() -> removes and returns last inserted kay-value\n",
    "  8. clear() -> removes all elements\n",
    "\n",
    "### Tuple:\n",
    "- Tuple is a collection of datasets that are immutable, means once the tuple is defined, we cannot change it.\n",
    "- Tuple is mainly used to store data that does not change often, such as PAN number, Adhar Number.\n",
    "- Duplicates are allowed in tuple\n",
    "- Mixed datatypes are allowed in tuple\n",
    "- Indexing is allowed in tuple\n",
    "- Methods in tuple (There are only 2 methods in tuple):\n",
    "  1. index()-> returns index of the element in the tuple\n",
    "  2. count()-> returns count of the specific element in the tuple\n",
    "\n",
    "### List:\n",
    "- List is a collection of datatypes that stores data.\n",
    "- In list, indexing is allowed.\n",
    "- Duplicates are allowed\n",
    "- Multiple datatypes in list/mixed datatypes in List are allowed\n",
    "- List is mutable\n",
    "- Methods in List are:\n",
    "  1. append()-> appends the element at the end of the list\n",
    "  2. pop()-> pop the last element of the list\n",
    "  3. remove()-> removes the item according to it's value\n",
    "  4. clear() -> clears the list, obviously.\n",
    "  5. insert(i,x) -> inserts element (x) at a certain index (i)\n",
    "  6. sort() -> sorts elements from the list (sorts if similar datatypes are there, throws error if int and str are present)\n",
    "  7. extend(iterable) -> This also adds to the list, but adds multiple elements instead of 1 like append()\n",
    "  8. reverse() -> reverses the elements in the list."
   ]
  },
  {
   "cell_type": "code",
   "execution_count": 16,
   "id": "41ce70a4-2c92-4306-a63b-bde9d3882514",
   "metadata": {},
   "outputs": [
    {
     "name": "stdout",
     "output_type": "stream",
     "text": [
      "Common methods in Set and Tuple:  set()\n",
      "Common methods in Set and List:  {'remove', 'pop', 'clear'}\n",
      "Common methods in Set and Dict:  {'pop', 'update'}\n",
      "Common methods in List and Set:  {'remove', 'pop', 'clear'}\n",
      "Common methods in List and Tuple:  set()\n",
      "Common methods in List and Dict:  {'append', 'pop'}\n",
      "Common methods in Tuple and Set:  set()\n",
      "Common methods in Tuple and List:  set()\n",
      "Common methods in Tuple and Dict:  set()\n",
      "Common methods in Dict and Set:  {'pop', 'update'}\n",
      "Common methods in Dict and List:  {'append', 'pop'}\n",
      "Common methods in Dict and Tuple:  set()\n"
     ]
    }
   ],
   "source": [
    "# Practice Program\n",
    "\n",
    "set_m = {'add', 'clear', 'pop', 'update', 'remove', 'discard'}\n",
    "tup_m = {'count', 'index'}\n",
    "list_m = {'append', 'clear', 'pop', 'sort', 'reverse', 'extend', 'insert', 'remove'}\n",
    "dict_m = {'append', 'pop', 'popitem', 'keys', 'values', 'get', 'items', 'update'}\n",
    "\n",
    "print(\"Common methods in Set and Tuple: \",set_m & tup_m)\n",
    "print(\"Common methods in Set and List: \",set_m & list_m)\n",
    "print(\"Common methods in Set and Dict: \",set_m & dict_m)\n",
    "\n",
    "print(\"Common methods in List and Set: \",list_m & set_m)\n",
    "print(\"Common methods in List and Tuple: \",list_m & tup_m)\n",
    "print(\"Common methods in List and Dict: \",list_m & dict_m)\n",
    "\n",
    "print(\"Common methods in Tuple and Set: \",tup_m & set_m)\n",
    "print(\"Common methods in Tuple and List: \",tup_m & list_m)\n",
    "print(\"Common methods in Tuple and Dict: \",tup_m & dict_m)\n",
    "\n",
    "print(\"Common methods in Dict and Set: \",dict_m & set_m)\n",
    "print(\"Common methods in Dict and List: \",dict_m & list_m)\n",
    "print(\"Common methods in Dict and Tuple: \",dict_m & tup_m)"
   ]
  },
  {
   "cell_type": "code",
   "execution_count": null,
   "id": "95adb0c7-44f9-4f6d-8e23-0ba386d319b8",
   "metadata": {},
   "outputs": [],
   "source": []
  },
  {
   "cell_type": "code",
   "execution_count": null,
   "id": "477eaf33-26a9-4e74-9b24-c5929d6da66e",
   "metadata": {},
   "outputs": [],
   "source": []
  },
  {
   "cell_type": "code",
   "execution_count": null,
   "id": "e476637b-195c-4e9a-bd71-1caa95ad1eac",
   "metadata": {},
   "outputs": [],
   "source": []
  },
  {
   "cell_type": "code",
   "execution_count": null,
   "id": "031bbbe8-86e2-4492-8e36-24e7a320a18f",
   "metadata": {},
   "outputs": [],
   "source": []
  },
  {
   "cell_type": "code",
   "execution_count": null,
   "id": "a917c21e-bf6a-4a0f-bbde-dca1cbd88547",
   "metadata": {},
   "outputs": [],
   "source": []
  }
 ],
 "metadata": {
  "kernelspec": {
   "display_name": "Python [conda env:base] *",
   "language": "python",
   "name": "conda-base-py"
  },
  "language_info": {
   "codemirror_mode": {
    "name": "ipython",
    "version": 3
   },
   "file_extension": ".py",
   "mimetype": "text/x-python",
   "name": "python",
   "nbconvert_exporter": "python",
   "pygments_lexer": "ipython3",
   "version": "3.12.3"
  }
 },
 "nbformat": 4,
 "nbformat_minor": 5
}
