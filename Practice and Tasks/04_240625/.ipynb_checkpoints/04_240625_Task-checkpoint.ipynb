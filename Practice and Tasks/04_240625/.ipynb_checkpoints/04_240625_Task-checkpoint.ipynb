{
 "cells": [
  {
   "cell_type": "code",
   "execution_count": 7,
   "id": "d0f1fa41-0a89-4efd-979b-374852c659d6",
   "metadata": {},
   "outputs": [
    {
     "data": {
      "text/plain": [
       "'  xyz may uresh  khot  '"
      ]
     },
     "execution_count": 7,
     "metadata": {},
     "output_type": "execute_result"
    }
   ],
   "source": [
    "#Strip Method\n",
    "str=\"  xyz may uresh  khot  \"#Removes spaces of the left only (and only 1 i guess)\n",
    "str.lstrip()\n",
    "str"
   ]
  },
  {
   "cell_type": "code",
   "execution_count": 8,
   "id": "ee79e9de-e603-4e61-b503-ceaf1471cff3",
   "metadata": {
    "scrolled": true
   },
   "outputs": [
    {
     "name": "stdout",
     "output_type": "stream",
     "text": [
      "xyz   mayuresh  kho t\n"
     ]
    }
   ],
   "source": [
    "str = '  xyz   mayuresh  kho t  '\n",
    "str = str.strip() # Removes spaces from the both the sides.\n",
    "print(str)"
   ]
  },
  {
   "cell_type": "markdown",
   "id": "8c6f93e9-0ead-4dc9-a03f-9fbadb2e2766",
   "metadata": {},
   "source": [
    "### Escape Character '\\'"
   ]
  },
  {
   "cell_type": "code",
   "execution_count": 9,
   "id": "ef68a3fb-21ea-4523-9dc8-3cd5a7040eea",
   "metadata": {},
   "outputs": [
    {
     "ename": "SyntaxError",
     "evalue": "invalid syntax (2770357745.py, line 2)",
     "output_type": "error",
     "traceback": [
      "\u001b[1;36m  Cell \u001b[1;32mIn[9], line 2\u001b[1;36m\u001b[0m\n\u001b[1;33m    mystr = \"My favourite series is \"Game of Thrones\"\"\u001b[0m\n\u001b[1;37m                                     ^\u001b[0m\n\u001b[1;31mSyntaxError\u001b[0m\u001b[1;31m:\u001b[0m invalid syntax\n"
     ]
    }
   ],
   "source": [
    "#Using escape character to allow illegal characters\n",
    "mystr = \"My favourite series is \"Game of Thrones\"\""
   ]
  },
  {
   "cell_type": "code",
   "execution_count": 11,
   "id": "abba2bd4-0263-452f-a215-b919782dbb75",
   "metadata": {},
   "outputs": [
    {
     "name": "stdout",
     "output_type": "stream",
     "text": [
      "My favourite series is \"Game of Thrones\"\n"
     ]
    }
   ],
   "source": [
    "mystr2 = \"My favourite series is \\\"Game of Thrones\\\"\"\n",
    "print(mystr2)\n",
    "# \\ This is the escape character that we can use in such scenarios"
   ]
  },
  {
   "cell_type": "markdown",
   "id": "59c9814e-ca03-4da6-aeb8-94457425a41c",
   "metadata": {},
   "source": [
    "### List\n",
    "list = ['Asif', 25 ,[50, 100],[150, 90] , {'John' , 'David'}]\n",
    "list"
   ]
  },
  {
   "cell_type": "code",
   "execution_count": 16,
   "id": "cb57f1af-8f3d-4784-a9e6-e6de370777cc",
   "metadata": {},
   "outputs": [
    {
     "name": "stdout",
     "output_type": "stream",
     "text": [
      "{'Jonh', 'David', 'Math', 'Pie'}\n",
      "1\n"
     ]
    }
   ],
   "source": [
    "list=[{'Jonh', 'David', 'Math', 'Pie'}]\n",
    "print(list[0])\n",
    "# list[0][2]#You cannot access set inside the list\n",
    "# and the length of the list will be one, cos it consider the set of 1 {} as one element\n",
    "print(len(list))"
   ]
  },
  {
   "cell_type": "markdown",
   "id": "53989d2a-7e1e-4c13-a762-363ac66b0b55",
   "metadata": {},
   "source": [
    "### List Slicing"
   ]
  },
  {
   "cell_type": "code",
   "execution_count": 8,
   "id": "b1833be7-4ef2-4368-bc10-1f3d009ba4ba",
   "metadata": {},
   "outputs": [
    {
     "data": {
      "text/plain": [
       "['four', 'seven']"
      ]
     },
     "execution_count": 8,
     "metadata": {},
     "output_type": "execute_result"
    }
   ],
   "source": [
    "mylist = ['one', 'two', 'three', 'four', 'five', 'six', 'seven', 'eight', 'nine', 'ten']\n",
    "mylist[3:9:3]"
   ]
  },
  {
   "cell_type": "code",
   "execution_count": 12,
   "id": "c442a7c3-c87f-41ea-bb12-b1b794224f4a",
   "metadata": {},
   "outputs": [
    {
     "data": {
      "text/plain": [
       "['seven', 'eight', 'nine', 'ten']"
      ]
     },
     "execution_count": 12,
     "metadata": {},
     "output_type": "execute_result"
    }
   ],
   "source": [
    "mylist[-4:]"
   ]
  },
  {
   "cell_type": "code",
   "execution_count": null,
   "id": "d7c721e4-a1a3-40df-9ba6-6e2539e8db69",
   "metadata": {},
   "outputs": [],
   "source": []
  }
 ],
 "metadata": {
  "kernelspec": {
   "display_name": "Python [conda env:base] *",
   "language": "python",
   "name": "conda-base-py"
  },
  "language_info": {
   "codemirror_mode": {
    "name": "ipython",
    "version": 3
   },
   "file_extension": ".py",
   "mimetype": "text/x-python",
   "name": "python",
   "nbconvert_exporter": "python",
   "pygments_lexer": "ipython3",
   "version": "3.12.7"
  }
 },
 "nbformat": 4,
 "nbformat_minor": 5
}
