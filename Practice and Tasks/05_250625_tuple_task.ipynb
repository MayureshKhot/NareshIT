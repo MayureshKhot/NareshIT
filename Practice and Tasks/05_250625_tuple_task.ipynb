{
 "cells": [
  {
   "cell_type": "markdown",
   "id": "04ed07e8-2670-4121-bb97-898e89820006",
   "metadata": {},
   "source": [
    "# Tuple practice and Notes"
   ]
  },
  {
   "cell_type": "code",
   "execution_count": 8,
   "id": "6093e4bd-fa42-4925-a0bb-e6f848354c38",
   "metadata": {},
   "outputs": [
    {
     "data": {
      "text/plain": [
       "(190, 20, (20, 8), {'Khot', 'Mayuresh'})"
      ]
     },
     "execution_count": 8,
     "metadata": {},
     "output_type": "execute_result"
    }
   ],
   "source": [
    "#Nested tuple\n",
    "t=(190, 20, (20,8), {\"Mayuresh\",\"Khot\"})#Tuple can have mixed datatypes\n",
    "t"
   ]
  },
  {
   "cell_type": "code",
   "execution_count": 12,
   "id": "c2af4df1-a66b-4131-b557-a8eb18bd09e9",
   "metadata": {},
   "outputs": [],
   "source": [
    "#t[3][0]# this won't work, cos {} is a set, and order is not guranteed in sets, so there's no [0] in this set."
   ]
  },
  {
   "cell_type": "code",
   "execution_count": 13,
   "id": "75f8a052-83c0-48a4-a624-640f4d193676",
   "metadata": {},
   "outputs": [
    {
     "data": {
      "text/plain": [
       "8"
      ]
     },
     "execution_count": 13,
     "metadata": {},
     "output_type": "execute_result"
    }
   ],
   "source": [
    "t[2][1]"
   ]
  },
  {
   "cell_type": "markdown",
   "id": "e022d9c4-3b64-433a-9ba6-ae786f682477",
   "metadata": {},
   "source": [
    "## Tuple Removing and deleting"
   ]
  },
  {
   "cell_type": "code",
   "execution_count": 20,
   "id": "dcb2a672-7866-4c56-be94-4a75cd79d786",
   "metadata": {},
   "outputs": [],
   "source": [
    "t1=('one', 'two', 'three', 'four', 'five', 'six', 'seven', 'eight', 'nine', 'ten')\n",
    "# del t1[3] # You can't delete any items from a tuple, cos it's immutable."
   ]
  },
  {
   "cell_type": "code",
   "execution_count": 17,
   "id": "69cd9825-435c-402b-bea3-6ac3ab6a9c43",
   "metadata": {},
   "outputs": [
    {
     "ename": "NameError",
     "evalue": "name 't1' is not defined",
     "output_type": "error",
     "traceback": [
      "\u001b[1;31m---------------------------------------------------------------------------\u001b[0m",
      "\u001b[1;31mNameError\u001b[0m                                 Traceback (most recent call last)",
      "Cell \u001b[1;32mIn[17], line 1\u001b[0m\n\u001b[1;32m----> 1\u001b[0m t1[\u001b[38;5;241m2\u001b[39m]\u001b[38;5;241m=\u001b[39m\u001b[38;5;124m'\u001b[39m\u001b[38;5;124mfifty\u001b[39m\u001b[38;5;124m'\u001b[39m\n",
      "\u001b[1;31mNameError\u001b[0m: name 't1' is not defined"
     ]
    }
   ],
   "source": [
    "t1[2]='fifty' # You can't assign different value to an element in a tuple, cos again, it's immutable."
   ]
  },
  {
   "cell_type": "code",
   "execution_count": 19,
   "id": "a80bbb63-5503-4fe0-9b26-c39a6e56c376",
   "metadata": {},
   "outputs": [],
   "source": [
    "# del t1 # This is how you delete a tuple"
   ]
  },
  {
   "cell_type": "markdown",
   "id": "be2c3659-4499-4e4e-9ce2-6b2193eea219",
   "metadata": {},
   "source": [
    "## Loop through a tuple"
   ]
  },
  {
   "cell_type": "code",
   "execution_count": 21,
   "id": "4937f7e9-19c4-432c-b326-52cb88f33b2e",
   "metadata": {},
   "outputs": [
    {
     "data": {
      "text/plain": [
       "('one', 'two', 'three', 'four', 'five', 'six', 'seven', 'eight', 'nine', 'ten')"
      ]
     },
     "execution_count": 21,
     "metadata": {},
     "output_type": "execute_result"
    }
   ],
   "source": [
    "t2=t1\n",
    "t2"
   ]
  },
  {
   "cell_type": "code",
   "execution_count": 22,
   "id": "5f203ffa-0779-4731-b16b-4bc3bffab3a5",
   "metadata": {},
   "outputs": [
    {
     "name": "stdout",
     "output_type": "stream",
     "text": [
      "one\n",
      "two\n",
      "three\n",
      "four\n",
      "five\n",
      "six\n",
      "seven\n",
      "eight\n",
      "nine\n",
      "ten\n"
     ]
    }
   ],
   "source": [
    "for i in t2:\n",
    "    print(i)"
   ]
  },
  {
   "cell_type": "code",
   "execution_count": 24,
   "id": "cd5d0b34-fe93-463f-a05c-dd245158176d",
   "metadata": {},
   "outputs": [
    {
     "name": "stdout",
     "output_type": "stream",
     "text": [
      "(0, 'one')\n",
      "(1, 'two')\n",
      "(2, 'three')\n",
      "(3, 'four')\n",
      "(4, 'five')\n",
      "(5, 'six')\n",
      "(6, 'seven')\n",
      "(7, 'eight')\n",
      "(8, 'nine')\n",
      "(9, 'ten')\n"
     ]
    }
   ],
   "source": [
    "for i in enumerate(t2): #Enumerate function connects the iterable elements with the serial of numbers starting from 0\n",
    "    print(i)"
   ]
  },
  {
   "cell_type": "markdown",
   "id": "c4e9d8fd-a2b2-41fa-9a0f-6cfa3773f1ee",
   "metadata": {},
   "source": [
    "## Membership in Tuple"
   ]
  },
  {
   "cell_type": "code",
   "execution_count": 25,
   "id": "27c713e2-51ed-4a70-8a27-935e88df3ebf",
   "metadata": {},
   "outputs": [
    {
     "data": {
      "text/plain": [
       "True"
      ]
     },
     "execution_count": 25,
     "metadata": {},
     "output_type": "execute_result"
    }
   ],
   "source": [
    "'one' in t2 #Check if 'one' is in the tuple"
   ]
  },
  {
   "cell_type": "code",
   "execution_count": 26,
   "id": "f2bcb973-2a71-4b3d-928c-53eb4e8d0b04",
   "metadata": {},
   "outputs": [
    {
     "data": {
      "text/plain": [
       "False"
      ]
     },
     "execution_count": 26,
     "metadata": {},
     "output_type": "execute_result"
    }
   ],
   "source": [
    "'eleven' in t2"
   ]
  },
  {
   "cell_type": "code",
   "execution_count": 28,
   "id": "a7274086-431a-4949-82ef-41981ab5f746",
   "metadata": {},
   "outputs": [
    {
     "name": "stdout",
     "output_type": "stream",
     "text": [
      "Three is there in p2\n"
     ]
    }
   ],
   "source": [
    "if 'three' in t2:\n",
    "    print(\"Three is there in p2\")\n",
    "else:\n",
    "    print(\"Three is not there\")"
   ]
  },
  {
   "cell_type": "markdown",
   "id": "3af0216a-9d0f-40be-97d3-d9bf0eb2954f",
   "metadata": {},
   "source": [
    "# Sorting"
   ]
  },
  {
   "cell_type": "code",
   "execution_count": 41,
   "id": "e42c9fea-67fe-4cf9-bdb1-d8aebce0e972",
   "metadata": {},
   "outputs": [
    {
     "data": {
      "text/plain": [
       "((100, 50), '40', 60, 80, 10, 500)"
      ]
     },
     "execution_count": 41,
     "metadata": {},
     "output_type": "execute_result"
    }
   ],
   "source": [
    "t3=((100,50),'40',60,80,10,500)\n",
    "t3"
   ]
  },
  {
   "cell_type": "code",
   "execution_count": 42,
   "id": "2748df07-7fff-4442-bc2e-005684e37cd7",
   "metadata": {},
   "outputs": [
    {
     "ename": "TypeError",
     "evalue": "'<' not supported between instances of 'str' and 'int'",
     "output_type": "error",
     "traceback": [
      "\u001b[1;31m---------------------------------------------------------------------------\u001b[0m",
      "\u001b[1;31mTypeError\u001b[0m                                 Traceback (most recent call last)",
      "Cell \u001b[1;32mIn[42], line 1\u001b[0m\n\u001b[1;32m----> 1\u001b[0m \u001b[38;5;28msorted\u001b[39m(t3, reverse\u001b[38;5;241m=\u001b[39m\u001b[38;5;28;01mTrue\u001b[39;00m)\n",
      "\u001b[1;31mTypeError\u001b[0m: '<' not supported between instances of 'str' and 'int'"
     ]
    }
   ],
   "source": [
    "sorted(t3, reverse=True)#Not sorting won't work, because of different datatypes"
   ]
  },
  {
   "cell_type": "markdown",
   "id": "da290c2f-a947-4378-8ead-232feccd4a5e",
   "metadata": {},
   "source": [
    "# all() and any()"
   ]
  },
  {
   "cell_type": "markdown",
   "id": "933e276b-0651-467e-92a2-533c94561342",
   "metadata": {},
   "source": [
    "**all():Returns True only if all elements in the iterable are truthy (i.e., not False, 0, None, '', etc.).**\n",
    "- This returns false if any one is false"
   ]
  },
  {
   "cell_type": "code",
   "execution_count": 44,
   "id": "cf6279e0-2df2-40f8-969e-80ec853941ee",
   "metadata": {},
   "outputs": [
    {
     "name": "stdout",
     "output_type": "stream",
     "text": [
      "True\n"
     ]
    }
   ],
   "source": [
    "t = (1, True, \"hello\")\n",
    "print(all(t))  # True → all elements are truthy\n"
   ]
  },
  {
   "cell_type": "markdown",
   "id": "b8126496-b21f-4ac5-bd0c-8cc7e011d612",
   "metadata": {},
   "source": [
    "**any(): Returns True if at least one element in the iterable is truthy.**\n",
    "- This returns false if all elements are false"
   ]
  },
  {
   "cell_type": "code",
   "execution_count": 45,
   "id": "1d17479b-01e6-4f0c-93a9-4248fd9c9a6d",
   "metadata": {},
   "outputs": [
    {
     "name": "stdout",
     "output_type": "stream",
     "text": [
      "True\n"
     ]
    }
   ],
   "source": [
    "t = (0, False, \"\", 5)\n",
    "print(any(t))  # True → because 5 is truthy\n"
   ]
  },
  {
   "cell_type": "markdown",
   "id": "ff2263b7-e051-46b0-be32-dca12e25e89b",
   "metadata": {},
   "source": [
    "### Real world uses or any()"
   ]
  },
  {
   "cell_type": "code",
   "execution_count": 46,
   "id": "3ba2a535-fc6a-4546-b662-a33d5fd74a62",
   "metadata": {},
   "outputs": [
    {
     "name": "stdout",
     "output_type": "stream",
     "text": [
      "User has at least one permission.\n"
     ]
    }
   ],
   "source": [
    "user_permissions = (\"read\", \"\", None)\n",
    "\n",
    "if any(user_permissions):\n",
    "    print(\"User has at least one permission.\")\n"
   ]
  },
  {
   "cell_type": "code",
   "execution_count": 47,
   "id": "4a8cc44a-ea3f-48bf-bac6-a18e1a8b9673",
   "metadata": {},
   "outputs": [
    {
     "name": "stdout",
     "output_type": "stream",
     "text": [
      "Warning: High temperature detected!\n"
     ]
    }
   ],
   "source": [
    "# Check for any failing conditions in data\n",
    "\n",
    "temperatures = [21, 23, 25, 39, 41]  # 41 is too high\n",
    "\n",
    "if any(temp > 40 for temp in temperatures):\n",
    "    print(\"Warning: High temperature detected!\")\n"
   ]
  },
  {
   "cell_type": "code",
   "execution_count": 48,
   "id": "091298f5-86f8-4cf3-9e29-1207450fa780",
   "metadata": {},
   "outputs": [],
   "source": [
    "import os\n",
    "\n",
    "file_paths = [\"data.csv\", \"backup.csv\", \"archive.zip\"]\n",
    "\n",
    "if any(os.path.exists(path) for path in file_paths):\n",
    "    print(\"At least one file exists.\")\n"
   ]
  },
  {
   "cell_type": "code",
   "execution_count": 49,
   "id": "684e5c2d-c7f4-4e95-b35f-d0affff3fbe0",
   "metadata": {},
   "outputs": [
    {
     "name": "stdout",
     "output_type": "stream",
     "text": [
      "Form is partially filled.\n"
     ]
    }
   ],
   "source": [
    "#Suppose you want to check if any input field is filled:\n",
    "\n",
    "inputs = (\"\", \"\", \"user@example.com\")  # only email filled\n",
    "\n",
    "if any(inputs):\n",
    "    print(\"Form is partially filled.\")\n",
    "else:\n",
    "    print(\"All fields are empty.\")\n"
   ]
  },
  {
   "cell_type": "code",
   "execution_count": null,
   "id": "040c81f8-449b-4201-9f33-8caf08f27722",
   "metadata": {},
   "outputs": [],
   "source": []
  }
 ],
 "metadata": {
  "kernelspec": {
   "display_name": "Python [conda env:base] *",
   "language": "python",
   "name": "conda-base-py"
  },
  "language_info": {
   "codemirror_mode": {
    "name": "ipython",
    "version": 3
   },
   "file_extension": ".py",
   "mimetype": "text/x-python",
   "name": "python",
   "nbconvert_exporter": "python",
   "pygments_lexer": "ipython3",
   "version": "3.12.7"
  }
 },
 "nbformat": 4,
 "nbformat_minor": 5
}
