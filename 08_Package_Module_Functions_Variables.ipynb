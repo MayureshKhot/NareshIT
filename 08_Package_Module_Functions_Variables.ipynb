{
 "cells": [
  {
   "cell_type": "markdown",
   "id": "69b2973f-d48a-4807-baf2-b0b0d750cc85",
   "metadata": {},
   "source": [
    "# Package-Modeule-Functions\n",
    "\n",
    "1. Package = collection of modules\n",
    "2. Modules = collection of function\n",
    "3. Function = multiple line of code packed with a name, Function strutcure: name():\n",
    "   - You can call function from other modules using modulename.functionname(): (this is called function calling)\n",
    "\n",
    "### Import keyword\n",
    "- Import keyword is used to import modules\n",
    "\n",
    "### Input Function - input()\n",
    "- Input, by default, takes input as string; therefore gives output as a string\n",
    "- "
   ]
  },
  {
   "cell_type": "code",
   "execution_count": 1,
   "id": "df315cc9-e5db-408b-8cc8-7d904695c51f",
   "metadata": {},
   "outputs": [
    {
     "name": "stdin",
     "output_type": "stream",
     "text": [
      " 3\n",
      " 5\n"
     ]
    },
    {
     "name": "stdout",
     "output_type": "stream",
     "text": [
      "35\n"
     ]
    }
   ],
   "source": [
    "#Example\n",
    "a=input()\n",
    "b=input()\n",
    "print(a+b)"
   ]
  },
  {
   "cell_type": "code",
   "execution_count": 2,
   "id": "86b0f9a9-610d-4700-9f27-5f4298a0f670",
   "metadata": {},
   "outputs": [
    {
     "name": "stdin",
     "output_type": "stream",
     "text": [
      " 3\n",
      " 5\n"
     ]
    },
    {
     "data": {
      "text/plain": [
       "8"
      ]
     },
     "execution_count": 2,
     "metadata": {},
     "output_type": "execute_result"
    }
   ],
   "source": [
    "# Therefore we do typecasting:\n",
    "a=int(input())\n",
    "b=int(input())\n",
    "a+b"
   ]
  },
  {
   "cell_type": "markdown",
   "id": "be6eba4a-ff2c-42c0-8a53-b03fdfb41dcb",
   "metadata": {},
   "source": [
    "## Code Optimization\n",
    "\n",
    "- Optimizing the code to save memory\n",
    "- BigO methods or something like that are used to reduce the time complexity\n",
    "- "
   ]
  },
  {
   "cell_type": "markdown",
   "id": "3d2ee4c0-d172-4533-aa7b-9f178a93f23a",
   "metadata": {},
   "source": [
    "## Expression\n",
    "- 2+4-3*5 this is an expression, not int.\n",
    "- Therefore we use eval() function to resolve it.\n",
    "- eval() function: eval() takes a string and evaluates it as a Python expression\n",
    "- When to use?\n",
    "    - Rarely needed. Useful for:\n",
    "    - Quick evaluation of user input (with caution).\n",
    "    - Dynamic calculations."
   ]
  },
  {
   "cell_type": "code",
   "execution_count": 3,
   "id": "690b4522-21f8-4974-a870-838dfb682083",
   "metadata": {},
   "outputs": [
    {
     "name": "stdin",
     "output_type": "stream",
     "text": [
      "enter 2+4-3*5\n"
     ]
    },
    {
     "ename": "ValueError",
     "evalue": "invalid literal for int() with base 10: '2+4-3*5'",
     "output_type": "error",
     "traceback": [
      "\u001b[1;31m---------------------------------------------------------------------------\u001b[0m",
      "\u001b[1;31mValueError\u001b[0m                                Traceback (most recent call last)",
      "Cell \u001b[1;32mIn[3], line 2\u001b[0m\n\u001b[0;32m      1\u001b[0m \u001b[38;5;66;03m# typecasting will also not work here\u001b[39;00m\n\u001b[1;32m----> 2\u001b[0m result \u001b[38;5;241m=\u001b[39m \u001b[38;5;28mint\u001b[39m(\u001b[38;5;28minput\u001b[39m(\u001b[38;5;124m\"\u001b[39m\u001b[38;5;124menter\u001b[39m\u001b[38;5;124m\"\u001b[39m))\n\u001b[0;32m      3\u001b[0m result\n",
      "\u001b[1;31mValueError\u001b[0m: invalid literal for int() with base 10: '2+4-3*5'"
     ]
    }
   ],
   "source": [
    "# typecasting will also not work here\n",
    "result = int(input(\"enter\"))\n",
    "result"
   ]
  },
  {
   "cell_type": "code",
   "execution_count": 4,
   "id": "43ec25f7-1f67-4039-b19e-cbe067b44720",
   "metadata": {},
   "outputs": [
    {
     "name": "stdin",
     "output_type": "stream",
     "text": [
      "enter 2+4-3*5\n"
     ]
    },
    {
     "data": {
      "text/plain": [
       "-9"
      ]
     },
     "execution_count": 4,
     "metadata": {},
     "output_type": "execute_result"
    }
   ],
   "source": [
    "# This works\n",
    "result = eval(input(\"enter\"))\n",
    "result"
   ]
  },
  {
   "cell_type": "code",
   "execution_count": 7,
   "id": "d2c5a126-d287-4ddc-89b5-9e7a8f577109",
   "metadata": {},
   "outputs": [
    {
     "name": "stdin",
     "output_type": "stream",
     "text": [
      " Hi how are you?\n"
     ]
    },
    {
     "data": {
      "text/plain": [
       "['Hi', 'how', 'are', 'you?']"
      ]
     },
     "execution_count": 7,
     "metadata": {},
     "output_type": "execute_result"
    }
   ],
   "source": [
    "values = input().split() #This returns list (dynamically)\n",
    "values"
   ]
  },
  {
   "cell_type": "code",
   "execution_count": null,
   "id": "babb0e39-6123-4bc7-92b1-c23138be1321",
   "metadata": {},
   "outputs": [],
   "source": []
  }
 ],
 "metadata": {
  "kernelspec": {
   "display_name": "Python [conda env:base] *",
   "language": "python",
   "name": "conda-base-py"
  },
  "language_info": {
   "codemirror_mode": {
    "name": "ipython",
    "version": 3
   },
   "file_extension": ".py",
   "mimetype": "text/x-python",
   "name": "python",
   "nbconvert_exporter": "python",
   "pygments_lexer": "ipython3",
   "version": "3.12.3"
  }
 },
 "nbformat": 4,
 "nbformat_minor": 5
}
